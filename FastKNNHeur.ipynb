{
 "cells": [
  {
   "cell_type": "markdown",
   "metadata": {},
   "source": [
    "# Fast(er) KNN Feature Selection\n",
    "\n",
    "While working with KNN I realized how difficult it was to select good features to use as classifiers.  Moreover, with small data samples there was a need to run long simulations with bootstrapping to smooth out high variances in accuracy values.  Hence, the need to quickly check for possible high-accuracy-featuresets was imperitive.  The following method was initially an attempt to speed up the SKLearn KNN algorithms which I suspected had a lot of overhead for handling arbitrary labels and not just binary 1s and 0s, repetitive computation of distance matrices which do not change, and general overhead required for setting up the KNN class.  After initial testing it was apparent that this method quickly picks out high-accuracy-featuresets based on confirmation by the high accuracies found with the much slower simulations.  However, this method always appears to overestimate the accuracy by 1-3%, leading me to believe that this is some sort of upper bound computation.  Though I have no proof yet of this claim.  \n",
    "\n",
    "Algorithm\n",
    "1. Let X be a point cloud and kMax-1 be a maximum number of nearest neighbors to check.\n",
    "2. Compute all distances d(x_1,x_2) between all pairs of points in the cloud and place in distance matrix D.\n",
    "3. Use an ordering of the rows of D to sort the label-rows of the matrix L (assigning the label of x_2 to the corresponding distance in matrix D.\n",
    "4. Construct prediction matrix P, which fills each row with classifications according to majority-wins voting from the left of the row (neglecting the first label).  In this way, row i of P contains its own label at index 0 and the k-nearest neighbor majority vote at index k.  That is, each index holds the label that the index-number of nearest neighbors would vote.\n",
    "5. Compute and return the average accuracy for each column (k-value); that is, for all rows compare the classification at index k with the value at index 0 and divide the number of agreeing labels by the number of rows.\n",
    "\n",
    "In this way the algorithm essentially uses all data except one to classify with all k-values desired.  It does this once for all data points and then averages the accuracies found at all k-values used.  "
   ]
  },
  {
   "cell_type": "code",
   "execution_count": 321,
   "metadata": {},
   "outputs": [],
   "source": [
    "from time import time \n",
    "import numpy as np\n",
    "import pandas as pd\n",
    "import matplotlib.pyplot as plt\n",
    "from sklearn import preprocessing\n",
    "from sklearn.preprocessing import MaxAbsScaler\n",
    "from sklearn.neighbors import KNeighborsClassifier\n",
    "from sklearn.model_selection import train_test_split\n",
    "from IPython.display import Image\n",
    "import seaborn as sns\n",
    "\n",
    "def getDistances(X,d = 'Euclidean'):\n",
    "    '''Given a point cloud X, returns a distance matrix\n",
    "    using the metric provided as d (options are Euclidean,\n",
    "    , more?).\n",
    "    \n",
    "    Expects X is a np.array of np.arrays all of the same length L.\n",
    "    \n",
    "    Returns a symmetric matrix of dimension N x N, where |X| = N.'''\n",
    "    N = len(X)\n",
    "    D = np.zeros((N,N))\n",
    "    for i in range(N):\n",
    "        for j in range(i,N):\n",
    "            D[i][j] = np.linalg.norm(X[i]-X[j])\n",
    "            D[j][i] = D[i][j]\n",
    "    return D\n",
    "\n",
    "def sortLabels(D,L):\n",
    "    '''Given a square distance matrix D and a corresponding\n",
    "    array of labels L, this method sorts a generated \n",
    "    labels matrix according to how the distance matrix rows  \n",
    "    would be sorted.  Returns the row-sorted label matrix.   \n",
    "    \n",
    "    Expects D is an np.array matrix of numerical values.'''\n",
    "    LMatrix = np.array([L for i in range(D.shape[0])])\n",
    "\n",
    "    return np.take_along_axis(LMatrix,np.argsort(D),axis = 1)\n",
    "\n",
    "def majVote(a):\n",
    "    '''Assumes 'a' is an array of 1s and 0s.  Returns whichever\n",
    "    of the two is the majority.  In the case of a tie, a 0 is\n",
    "    returned.'''\n",
    "    \n",
    "    if a.mean() > 0.5:\n",
    "        return 1\n",
    "    else:\n",
    "        return 0\n",
    "\n",
    "def getPred(L,kMax=-1):\n",
    "    '''Given a sorted square matrix L, this method computes how a\n",
    "    KNN classifier would vote for each row for all values of k up\n",
    "    to the kMax.\n",
    "    \n",
    "    Returns a L.shape[0] x kMax matrix of predicted labels. Row i\n",
    "    contains its own label at index 0 and the k-nearest neighbor\n",
    "    majority vote at index k.  That is, each index holds the label\n",
    "    that the index-number of nearest neighbors would vote.'''\n",
    "    if kMax == -1:\n",
    "        kMax = L.shape[0]\n",
    "    \n",
    "    pred = np.zeros((L.shape[0],kMax))\n",
    "    for i in range(L.shape[0]):\n",
    "        for k in range(kMax):\n",
    "            if k == 0 or k == 1:\n",
    "                pred[i][k] = int(L[i][k])\n",
    "            else:\n",
    "                pred[i][k] = int(majVote(L[i][1:k+1]))\n",
    "                \n",
    "    return pred\n",
    "\n",
    "def getAcc(P,kMax = -1):\n",
    "    '''For a given prediction matrix, returns the accuracy that a KNN\n",
    "    classifier would have if neighborhoods were left out one at a time \n",
    "    and classified based on all other neighborhoods for each k-value.'''\n",
    "    if kMax == -1:\n",
    "        kMax = P.shape[1]-1\n",
    "        # Holds the accuracies for each k-value.\n",
    "        kAcc = np.zeros(kMax)\n",
    "    else:\n",
    "        kAcc = np.zeros(kMax-1)\n",
    "    \n",
    "    for row in P:\n",
    "        kAcc = kAcc + np.array([1 if row[0]==row[i] else 0 for i in range(1,len(row))])\n",
    "    \n",
    "    return kAcc/P.shape[0]\n",
    "\n",
    "def KNN(data,labels,kMax = -1, prnt = True):\n",
    "    '''Runs the pipeline of methods above.\n",
    "    Get distances, feed into label sorter, get predictions,\n",
    "    compute accuracies for leaving each neighborhood out.'''\n",
    "    D = getDistances(data)\n",
    "    L = sortLabels(D,labels)\n",
    "    P = getPred(L,kMax)\n",
    "    A = getAcc(P,kMax)\n",
    "    \n",
    "    if prnt:\n",
    "        print(\"Label Matrix\")\n",
    "        print(L)\n",
    "        print()\n",
    "        print(\"Predictions\")\n",
    "        print(P)\n",
    "        print()\n",
    "        print(\"Accuracies for each K\")\n",
    "        print(A)\n",
    "    \n",
    "    return A"
   ]
  },
  {
   "cell_type": "code",
   "execution_count": 307,
   "metadata": {},
   "outputs": [],
   "source": [
    "dataFrame = pd.read_csv(\"Dataset.csv\")\n",
    "fullfeaturelist = ['nei_final_simple','walk_score','transit_score','bike_score','population',\n",
    "           'population_density','household_income','marital_status_married','marital_status_separated_divorce',\n",
    "           'marital_status_widowed','marital_status_never_married','white_popl',\n",
    "            'hispanic_popl','black_popl','asian_popl','mixed_popl','other_popl','food_stamps_total',\n",
    "            'educational_attainment_no_hs','educational_attainment_bachelors','educational_attainment_very_advanced_degrees',\n",
    "            'household_type_married_count', 'household_type_single_female_count',\n",
    "            'household_type_single_male_count','household_type_one_person_count',\n",
    "            'household_type_other_non_family_count','household_type_with_children','Age_0_to_17','Age_18_to_21',\n",
    "            'Age_22_to_29','Age_30_to_39','Age_40_to_49','Age_50_to_59','Age_60_to_69','Age_70_to_79','Age_80_older']\n",
    "\n",
    "featurelist = fullfeaturelist[1:]\n",
    "\n",
    "# A new dataframe after removing job sector data since much of this is missing across many neighborhoods.\n",
    "dfFull = dataFrame[fullfeaturelist]\n",
    "# Taking out Pastures Neighborhood because of large lack of data.\n",
    "df = pd.DataFrame(dfFull[dfFull['nei_final_simple']!= 'Pastures'],columns = fullfeaturelist)\n",
    "# Taking out West End Neighborhood because of large lack of data.\n",
    "df = pd.DataFrame(df[df['nei_final_simple'] != 'West End'],columns = fullfeaturelist)\n",
    "df.reset_index(drop = True, inplace=True)\n",
    "\n",
    "scaler = MaxAbsScaler()\n",
    "scaler.fit(df[featurelist])\n",
    "scaledData = scaler.transform(df[featurelist])\n",
    "dfScaled = pd.DataFrame(scaledData,columns=featurelist)\n",
    "dfScaled['nei_final_simple']=df['nei_final_simple']\n",
    "\n",
    "# Labels WITH Eagle Hill and Pastures included.\n",
    "#df.loc[:,'fridge_count'] = pd.Series(np.array([1,0,0,0,1,0,0,1,0,0,0,0,0,2,0,0,0,0,1,0,0,0,0,0,0,0,0,0,]),index=df.index)\n",
    "# Labels WITHOUT Eagle Hill and Pastures included.\n",
    "df.loc[:,'fridge_count'] = pd.Series(np.array([1,0,0,0,1,0,0,1,0,0,0,0,1,0,0,0,0,1,0,0,0,0,0,0,0,0]),index=df.index)\n",
    "dfScaled.loc[:,'fridge_count'] = pd.Series(np.array([1,0,0,0,1,0,0,1,0,0,0,0,1,0,0,0,0,1,0,0,0,0,0,0,0,0]),index=dfScaled.index)"
   ]
  },
  {
   "cell_type": "markdown",
   "metadata": {},
   "source": [
    "### Inspection...\n",
    "\n",
    "We know several good classifiers for 2- and 3-feature sets.  We will inspect the results for a few to see how our output relates (if at all) and move on from there."
   ]
  },
  {
   "cell_type": "code",
   "execution_count": 308,
   "metadata": {},
   "outputs": [],
   "source": [
    "labels = np.array(dfScaled['fridge_count'])"
   ]
  },
  {
   "cell_type": "code",
   "execution_count": 319,
   "metadata": {},
   "outputs": [
    {
     "data": {
      "text/plain": [
       "array([0.88461538, 0.80769231, 0.80769231, 0.80769231, 0.80769231,\n",
       "       0.80769231, 0.76923077, 0.80769231])"
      ]
     },
     "execution_count": 319,
     "metadata": {},
     "output_type": "execute_result"
    }
   ],
   "source": [
    "# Known to have an average accuracy of 0.85314 for k = 1 after 10000 trials.\n",
    "data = np.array(dfScaled[['marital_status_widowed','Age_18_to_21']])\n",
    "accuracyList = KNN(data,labels,prnt=False)\n",
    "accuracyList[:8]\n",
    "# Looks like for k = 1 the algorithm suggests a very good accuracy."
   ]
  },
  {
   "cell_type": "code",
   "execution_count": 320,
   "metadata": {},
   "outputs": [
    {
     "name": "stdout",
     "output_type": "stream",
     "text": [
      "[0.73076923,0.80769231,0.84615385,0.80769231,0.80769231,0.80769231,0.80769231,0.80769231]\n"
     ]
    }
   ],
   "source": [
    "# Known to have an average accuracy of 0.834 for k = 3 after 10000 trials.\n",
    "data = np.array(dfScaled[['marital_status_widowed','marital_status_separated_divorce']])\n",
    "accuracyList = KNN(data,labels,prnt=False)\n",
    "a = str(accuracyList[:8]).replace('\\n','')\n",
    "a = a.replace(' ',',')\n",
    "print(a)\n",
    "# Looks like for k = 3 the algorithm suggests a very good accuracy."
   ]
  },
  {
   "cell_type": "markdown",
   "metadata": {},
   "source": [
    "# Well, I'm convinced\n",
    "\n",
    "Looks good and fast.  Let's see how she performs by printing out the predicted accuracies if one exceeds 0.82."
   ]
  },
  {
   "cell_type": "code",
   "execution_count": 323,
   "metadata": {},
   "outputs": [
    {
     "name": "stdout",
     "output_type": "stream",
     "text": [
      "['marital_status_widowed', 'Age_18_to_21'] ,  [0.88461538,0.80769231,0.80769231,0.80769231,0.80769231]\n",
      "['marital_status_widowed', 'Age_80_older'] ,  [0.88461538,0.76923077,0.65384615,0.76923077,0.73076923]\n",
      "['Age_22_to_29', 'Age_80_older'] ,  [0.80769231,0.88461538,0.73076923,0.69230769,0.65384615]\n",
      "Total time:  3.0616257190704346\n"
     ]
    }
   ],
   "source": [
    "cutoff = 0.85\n",
    "\n",
    "begin = time()\n",
    "for i in range(len(featurelist)-1):\n",
    "    for j in range(i+1,len(featurelist)):\n",
    "        features = [featurelist[i],featurelist[j]]\n",
    "        data = np.array(dfScaled[features])\n",
    "        accuracyList = KNN(data,labels,kMax = 6, prnt=False)\n",
    "        a = str(accuracyList[:5]).replace('\\n','')\n",
    "        a = a.replace(' ',',')\n",
    "        if accuracyList.max() > cutoff:\n",
    "            print(features,\", \", a)\n",
    "end = time()\n",
    "print(\"Total time: \", str(end-begin))"
   ]
  },
  {
   "cell_type": "markdown",
   "metadata": {},
   "source": [
    "Runs in less than 5 seconds and correctly identifies the features and k-values for classifiers.  However, the additional feature-sets discovered have shown to not be significant.  It must be because of the nature of the 'leave one out' situation that we have going on here.   I'll take it.  On to the three-feature sets..."
   ]
  },
  {
   "cell_type": "markdown",
   "metadata": {},
   "source": [
    "# Three Feature Heuristic\n"
   ]
  },
  {
   "cell_type": "code",
   "execution_count": 324,
   "metadata": {},
   "outputs": [
    {
     "name": "stdout",
     "output_type": "stream",
     "text": [
      "['population_density', 'other_popl', 'educational_attainment_very_advanced_degrees'] , [0.92307692,0.88461538,0.80769231,0.80769231,0.84615385]\n",
      "['household_type_other_non_family_count', 'Age_22_to_29', 'Age_80_older'] , [0.65384615,0.92307692,0.73076923,0.73076923,0.69230769]\n",
      "Total time:  67.9499990940094\n"
     ]
    }
   ],
   "source": [
    "cutoff = 0.9\n",
    "\n",
    "begin = time()\n",
    "for i in range(len(featurelist)-2):\n",
    "    for j in range(i+1,len(featurelist)-1):\n",
    "        for k in range(j+1,len(featurelist)):\n",
    "            features = [featurelist[i],featurelist[j],featurelist[k]]\n",
    "            data = np.array(dfScaled[features])\n",
    "            accuracyList = KNN(data,labels,prnt=False)\n",
    "            a = str(accuracyList[:5]).replace('\\n','')\n",
    "            a = a.replace(' ',',')\n",
    "            if accuracyList.max() > cutoff:\n",
    "                print(features,\",\",a)\n",
    "end = time()\n",
    "print(\"Total time: \", str(end-begin))"
   ]
  },
  {
   "cell_type": "markdown",
   "metadata": {},
   "source": [
    "# Checking Results\n",
    "The above cell pointed out two three-feature sets which I had not discovered before because of the length of time required to check each set.  Let's see how they perform in random trials."
   ]
  },
  {
   "cell_type": "code",
   "execution_count": 325,
   "metadata": {},
   "outputs": [],
   "source": [
    "def getAccuracy(features, trainData, testData,k_max = 5,label = 'fridge_count',k_min = 1):\n",
    "    '''Given a list of features from a train-test split from a data frame\n",
    "    this method returns the classification accuracy of a KNN method for \n",
    "    all values of k up to k_max.  Assumes features is a list of column\n",
    "    names from the data frame from which trainData and testData were \n",
    "    contrived.  trainData and testData must have a column titled \"fridge_count\"\n",
    "    or a given label must be supplied for target labels.'''\n",
    "    accuracylist = []\n",
    "    for i in range(k_min,k_max):\n",
    "        neighFridge = KNeighborsClassifier(n_neighbors = i)\n",
    "        neighFridge.fit(trainData[features], trainData[label])\n",
    "        pred = neighFridge.predict(testData[features])\n",
    "        accuracy = round(sum([1 for i in range(len(pred)) if pred[i] == np.array(testData[label])[i]])/len(pred),3)\n",
    "        accuracylist.append(accuracy)\n",
    "    return np.array(accuracylist)\n",
    "\n",
    "def getAvgAccuracyNTrials(features,data,trials = 100,split_size = 0.2,k_max = 5,label = 'fridge_count',k_min=1):\n",
    "    '''Given a list of features, a data frame, a size of train-test split (0,1),\n",
    "    and a k_max value, this method runs trials of knn and returns an average\n",
    "    accuracy list for all values of k from 1 to k_max.'''\n",
    "    accuracyList = []\n",
    "    for i in range(trials):\n",
    "        trainFood, testFood = train_test_split(data, test_size = split_size)\n",
    "        accuracyList.append(getAccuracy(features,trainFood,testFood,k_max,label,k_min))\n",
    "    avgArray = np.zeros(len(accuracyList[0]))\n",
    "    for array in accuracyList:\n",
    "        avgArray = avgArray + array\n",
    "    return avgArray/trials\n",
    "\n",
    "def getCI(p,N,z=1.96):\n",
    "    '''A method for determining the confindence interval (CI) for a given accuracy value p.\n",
    "    When an accuracy of p* has been found after running N simulations, we wish to know the CI \n",
    "    to determine if p* is statistically significant, or if it was caused by variations within \n",
    "    our resampling. N is the number of times you have rerun your simulations.  p is the average\n",
    "    accuracy of your simulations.  z is the t-value with N-1 DF or the z-value for sufficiently high\n",
    "    DFs.  i.e. for very large samples you can use z = 1.96 for a 95% CI.'''\n",
    "    interval = z*(np.sqrt(p*(1-p)/N))\n",
    "    return np.array([p-interval,p+interval])"
   ]
  },
  {
   "cell_type": "code",
   "execution_count": 326,
   "metadata": {},
   "outputs": [],
   "source": [
    "bestTwoFeats = [['population_density', 'other_popl', 'educational_attainment_very_advanced_degrees'],\n",
    "               ['household_type_other_non_family_count', 'Age_22_to_29', 'Age_80_older']]\n",
    "\n",
    "featuresets = [['walk_score', 'white_popl', 'other_popl'] ,['walk_score', 'other_popl', 'educational_attainment_very_advanced_degrees'] ,\n",
    "['bike_score', 'population_density', 'household_income'] ,['bike_score', 'asian_popl', 'household_type_one_person_count'] ,\n",
    "['population', 'marital_status_widowed', 'household_type_other_non_family_count'] ,['population', 'marital_status_widowed', 'Age_18_to_21'] ,\n",
    "['population', 'white_popl', 'household_type_single_male_count'] ,['population', 'hispanic_popl', 'other_popl'] ,\n",
    "['population', 'other_popl', 'household_type_married_count'] ,['population', 'other_popl', 'household_type_single_male_count'] ,\n",
    "['population_density', 'household_income', 'Age_80_older'] ,['population_density', 'white_popl', 'other_popl'] ,\n",
    "['population_density', 'white_popl', 'educational_attainment_very_advanced_degrees'] ,['population_density', 'asian_popl', 'educational_attainment_very_advanced_degrees'] ,\n",
    "['population_density', 'other_popl', 'educational_attainment_no_hs'] ,['population_density', 'other_popl', 'educational_attainment_very_advanced_degrees'] ,\n",
    "['population_density', 'other_popl', 'household_type_married_count'] ,['population_density', 'other_popl', 'Age_80_older'] ,\n",
    "['population_density', 'food_stamps_total', 'educational_attainment_no_hs'] ,['population_density', 'educational_attainment_no_hs', 'household_type_single_male_count'] ,\n",
    "['marital_status_married', 'marital_status_never_married', 'other_popl'] ,['marital_status_married', 'other_popl', 'household_type_single_female_count'] ,\n",
    "['marital_status_married', 'other_popl', 'household_type_single_male_count'] ,['marital_status_married', 'other_popl', 'household_type_with_children'] ,\n",
    "['marital_status_married', 'Age_30_to_39', 'Age_80_older'] ,['marital_status_separated_divorce', 'marital_status_widowed', 'hispanic_popl'] ,\n",
    "['marital_status_widowed', 'Age_18_to_21', 'Age_80_older'] ,['marital_status_never_married', 'white_popl', 'Age_80_older'] ,\n",
    "['marital_status_never_married', 'other_popl', 'household_type_married_count'] ,['marital_status_never_married', 'Age_18_to_21', 'Age_80_older'] ,\n",
    "['marital_status_never_married', 'Age_22_to_29', 'Age_80_older'] ,['white_popl', 'mixed_popl', 'household_type_single_male_count'] ,\n",
    "['white_popl', 'other_popl', 'household_type_with_children'] ,['hispanic_popl', 'other_popl', 'household_type_single_female_count'] ,\n",
    "['hispanic_popl', 'other_popl', 'household_type_single_male_count'] ,['mixed_popl', 'other_popl', 'household_type_married_count'] ,\n",
    "['mixed_popl', 'educational_attainment_bachelors', 'Age_80_older'] ,['other_popl', 'household_type_married_count', 'household_type_single_female_count'] ,\n",
    "['other_popl', 'household_type_married_count', 'household_type_single_male_count'] ,['other_popl', 'household_type_married_count', 'household_type_with_children'] ,\n",
    "['other_popl', 'household_type_single_female_count', 'Age_18_to_21'] ,['other_popl', 'household_type_single_female_count', 'Age_40_to_49'] ,\n",
    "['other_popl', 'household_type_single_male_count', 'Age_18_to_21'] ,['other_popl', 'household_type_single_male_count', 'Age_30_to_39'] ,\n",
    "['other_popl', 'household_type_single_male_count', 'Age_40_to_49'] ,['household_type_other_non_family_count', 'Age_18_to_21', 'Age_80_older'] ,\n",
    "['household_type_other_non_family_count', 'Age_22_to_29', 'Age_80_older']]\n"
   ]
  },
  {
   "cell_type": "code",
   "execution_count": 318,
   "metadata": {},
   "outputs": [
    {
     "name": "stdout",
     "output_type": "stream",
     "text": [
      "['population_density', 'other_popl', 'educational_attainment_very_advanced_degrees']  ,  [0.8907558 0.8447555 0.7916189 0.8124696 0.8038102]\n",
      "['household_type_other_non_family_count', 'Age_22_to_29', 'Age_80_older']  ,  [0.6784912 0.8447958 0.6974508 0.7539666 0.7181438]\n"
     ]
    }
   ],
   "source": [
    "for featureset in bestTwoFeats:\n",
    "    print(featureset,\" , \",getAvgAccuracyNTrials(featureset,dfScaled,trials = 10000,k_max = 6))\n"
   ]
  },
  {
   "cell_type": "markdown",
   "metadata": {},
   "source": [
    "Looks like the two feature sets dicovered do in fact perform very well.  My previous most-accurate three-feature classifier had an accuracy of 0.85495 and took about one week to discover.  The best found above has an accuracy of 0.89075.  Very nice, considering we found it in 67 seconds."
   ]
  },
  {
   "cell_type": "markdown",
   "metadata": {},
   "source": [
    "# Four Feature Set Heuristic"
   ]
  },
  {
   "cell_type": "code",
   "execution_count": 327,
   "metadata": {},
   "outputs": [
    {
     "name": "stdout",
     "output_type": "stream",
     "text": [
      "['population', 'marital_status_widowed', 'household_type_other_non_family_count', 'Age_18_to_21'] , [0.92307692,0.80769231,0.76923077,0.80769231,0.80769231]\n",
      "['population_density', 'asian_popl', 'other_popl', 'educational_attainment_very_advanced_degrees'] , [0.92307692,0.84615385,0.76923077,0.84615385,0.84615385]\n",
      "['population_density', 'other_popl', 'educational_attainment_very_advanced_degrees', 'household_type_single_male_count'] , [0.88461538,0.92307692,0.88461538,0.76923077,0.73076923]\n",
      "['population_density', 'other_popl', 'educational_attainment_very_advanced_degrees', 'Age_18_to_21'] , [0.92307692,0.88461538,0.80769231,0.80769231,0.84615385]\n",
      "['marital_status_married', 'mixed_popl', 'other_popl', 'Age_18_to_21'] , [0.92307692,0.84615385,0.80769231,0.80769231,0.73076923]\n",
      "['marital_status_widowed', 'Age_18_to_21', 'Age_22_to_29', 'Age_80_older'] , [0.92307692,0.80769231,0.69230769,0.80769231,0.80769231]\n",
      "['marital_status_never_married', 'white_popl', 'Age_18_to_21', 'Age_80_older'] , [0.84615385,0.92307692,0.80769231,0.76923077,0.73076923]\n",
      "['marital_status_never_married', 'Age_18_to_21', 'Age_22_to_29', 'Age_80_older'] , [0.88461538,0.92307692,0.80769231,0.73076923,0.73076923]\n",
      "['mixed_popl', 'educational_attainment_bachelors', 'Age_18_to_21', 'Age_80_older'] , [0.76923077,0.92307692,0.73076923,0.69230769,0.57692308]\n",
      "Total time:  544.4606099128723\n"
     ]
    }
   ],
   "source": [
    "cutoff = 0.92\n",
    "\n",
    "begin = time()\n",
    "featStr2 = \"\"\n",
    "for i in range(len(featurelist)-3):\n",
    "    for j in range(i+1,len(featurelist)-2):\n",
    "        for k in range(j+1,len(featurelist)-1):\n",
    "            for p in range(k+1,len(featurelist)):\n",
    "                features = [featurelist[i],featurelist[j],featurelist[k],featurelist[p]]\n",
    "                data = np.array(dfScaled[features])\n",
    "                accuracyList = KNN(data,labels,prnt=False)\n",
    "                a = str(accuracyList[:5]).replace('\\n','')\n",
    "                a = a.replace(' ',',')\n",
    "                if accuracyList.max() > cutoff:\n",
    "                    print(features,\",\",a)\n",
    "                    featStr2 = featStr2+str(features)\n",
    "                    \n",
    "end = time()\n",
    "print(\"Total time: \", str(end-begin))"
   ]
  },
  {
   "cell_type": "markdown",
   "metadata": {},
   "source": [
    "Of the 52,360 (thirty-five choose four) feature-sets checked in 544 seconds these nine-quadruples produced highly favorable heuristic scores above 92% accuracy.  Let's see how they perform under random resampling. Of special note, no quadruples were even checked before because of the time requirement for computation."
   ]
  },
  {
   "cell_type": "code",
   "execution_count": 274,
   "metadata": {},
   "outputs": [
    {
     "name": "stdout",
     "output_type": "stream",
     "text": [
      "['population', 'marital_status_widowed', 'household_type_other_non_family_count', 'Age_18_to_21']  ,  [0.8751364 0.8006425 0.7706649 0.8071058 0.806389 ]\n",
      "['population_density', 'asian_popl', 'other_popl', 'educational_attainment_very_advanced_degrees']  ,  [0.8821157 0.8208687 0.782172  0.8223102 0.800449 ]\n",
      "['population_density', 'other_popl', 'educational_attainment_very_advanced_degrees', 'household_type_single_male_count']  ,  [0.8684905 0.8702796 0.8242167 0.774959  0.7394808]\n",
      "['population_density', 'other_popl', 'educational_attainment_very_advanced_degrees', 'Age_18_to_21']  ,  [0.8901078 0.8456081 0.7913026 0.81371   0.8071393]\n",
      "['marital_status_married', 'mixed_popl', 'other_popl', 'Age_18_to_21']  ,  [0.8622299 0.8252584 0.7879649 0.7897151 0.7578321]\n",
      "['marital_status_widowed', 'Age_18_to_21', 'Age_22_to_29', 'Age_80_older']  ,  [0.8526322 0.7907026 0.7251389 0.806707  0.803891 ]\n",
      "['marital_status_never_married', 'white_popl', 'Age_18_to_21', 'Age_80_older']  ,  [0.8134037 0.8627699 0.7758549 0.773448  0.7289684]\n",
      "['marital_status_never_married', 'Age_18_to_21', 'Age_22_to_29', 'Age_80_older']  ,  [0.8571086 0.8590475 0.7608463 0.7632904 0.735192 ]\n",
      "['mixed_popl', 'educational_attainment_bachelors', 'Age_18_to_21', 'Age_80_older']  ,  [0.7561328 0.8432507 0.6872153 0.7257934 0.691899 ]\n"
     ]
    }
   ],
   "source": [
    "fourFeatP = [['population', 'marital_status_widowed', 'household_type_other_non_family_count', 'Age_18_to_21'] ,\n",
    "['population_density', 'asian_popl', 'other_popl', 'educational_attainment_very_advanced_degrees'] ,\n",
    "['population_density', 'other_popl', 'educational_attainment_very_advanced_degrees', 'household_type_single_male_count'] ,\n",
    "['population_density', 'other_popl', 'educational_attainment_very_advanced_degrees', 'Age_18_to_21'] , \n",
    "['marital_status_married', 'mixed_popl', 'other_popl', 'Age_18_to_21'] , \n",
    "['marital_status_widowed', 'Age_18_to_21', 'Age_22_to_29', 'Age_80_older'] , \n",
    "['marital_status_never_married', 'white_popl', 'Age_18_to_21', 'Age_80_older'] , \n",
    "['marital_status_never_married', 'Age_18_to_21', 'Age_22_to_29', 'Age_80_older'] , \n",
    "['mixed_popl', 'educational_attainment_bachelors', 'Age_18_to_21', 'Age_80_older']]\n",
    "for featureset in fourFeatP:\n",
    "    print(featureset,\" , \",getAvgAccuracyNTrials(featureset,dfScaled,trials = 10000,k_max = 6))"
   ]
  },
  {
   "cell_type": "markdown",
   "metadata": {},
   "source": [
    "# Five Feature Set Heuristic"
   ]
  },
  {
   "cell_type": "code",
   "execution_count": 328,
   "metadata": {},
   "outputs": [
    {
     "name": "stdout",
     "output_type": "stream",
     "text": [
      "['transit_score', 'marital_status_married', 'hispanic_popl', 'other_popl', 'household_type_single_female_count'] , [0.92307692,0.80769231,0.76923077,0.80769231,0.80769231]\n",
      "['bike_score', 'population_density', 'other_popl', 'educational_attainment_very_advanced_degrees', 'household_type_single_male_count'] , [0.88461538,0.84615385,0.92307692,0.80769231,0.80769231]\n",
      "['bike_score', 'population_density', 'other_popl', 'household_type_married_count', 'household_type_single_male_count'] , [0.88461538,0.84615385,0.92307692,0.80769231,0.80769231]\n",
      "['bike_score', 'population_density', 'other_popl', 'household_type_married_count', 'household_type_one_person_count'] , [0.92307692,0.84615385,0.84615385,0.80769231,0.80769231]\n",
      "['bike_score', 'population_density', 'other_popl', 'household_type_married_count', 'Age_30_to_39'] , [0.92307692,0.84615385,0.84615385,0.80769231,0.80769231]\n",
      "['bike_score', 'population_density', 'educational_attainment_very_advanced_degrees', 'household_type_single_male_count', 'Age_50_to_59'] , [0.92307692,0.84615385,0.88461538,0.80769231,0.80769231]\n",
      "['bike_score', 'marital_status_married', 'household_type_one_person_count', 'household_type_other_non_family_count', 'Age_22_to_29'] , [0.92307692,0.80769231,0.80769231,0.80769231,0.80769231]\n",
      "['bike_score', 'marital_status_married', 'household_type_one_person_count', 'Age_18_to_21', 'Age_22_to_29'] , [0.92307692,0.80769231,0.80769231,0.80769231,0.80769231]\n",
      "['bike_score', 'marital_status_never_married', 'asian_popl', 'household_type_one_person_count', 'Age_22_to_29'] , [0.92307692,0.80769231,0.76923077,0.80769231,0.76923077]\n",
      "['bike_score', 'household_type_married_count', 'household_type_one_person_count', 'household_type_other_non_family_count', 'Age_22_to_29'] , [0.92307692,0.80769231,0.80769231,0.80769231,0.80769231]\n",
      "['population', 'population_density', 'black_popl', 'other_popl', 'educational_attainment_very_advanced_degrees'] , [0.92307692,0.88461538,0.88461538,0.80769231,0.80769231]\n",
      "['population', 'population_density', 'black_popl', 'other_popl', 'household_type_married_count'] , [0.92307692,0.84615385,0.88461538,0.80769231,0.76923077]\n",
      "['population', 'population_density', 'mixed_popl', 'other_popl', 'educational_attainment_very_advanced_degrees'] , [0.88461538,0.88461538,0.92307692,0.80769231,0.80769231]\n",
      "['population', 'population_density', 'other_popl', 'educational_attainment_very_advanced_degrees', 'household_type_single_male_count'] , [0.88461538,0.92307692,0.88461538,0.76923077,0.73076923]\n",
      "['population', 'population_density', 'other_popl', 'Age_30_to_39', 'Age_80_older'] , [0.88461538,0.88461538,0.92307692,0.80769231,0.80769231]\n",
      "['population_density', 'marital_status_married', 'marital_status_never_married', 'black_popl', 'other_popl'] , [0.92307692,0.80769231,0.84615385,0.80769231,0.76923077]\n",
      "['population_density', 'marital_status_married', 'white_popl', 'black_popl', 'other_popl'] , [0.92307692,0.80769231,0.84615385,0.80769231,0.76923077]\n",
      "['population_density', 'marital_status_married', 'hispanic_popl', 'other_popl', 'household_type_single_male_count'] , [0.92307692,0.84615385,0.73076923,0.80769231,0.73076923]\n",
      "['population_density', 'marital_status_married', 'black_popl', 'other_popl', 'educational_attainment_bachelors'] , [0.92307692,0.80769231,0.84615385,0.80769231,0.76923077]\n",
      "['population_density', 'marital_status_married', 'black_popl', 'other_popl', 'educational_attainment_very_advanced_degrees'] , [0.92307692,0.88461538,0.88461538,0.80769231,0.76923077]\n",
      "['population_density', 'marital_status_married', 'black_popl', 'other_popl', 'household_type_other_non_family_count'] , [0.92307692,0.80769231,0.84615385,0.80769231,0.76923077]\n",
      "['population_density', 'marital_status_married', 'black_popl', 'other_popl', 'Age_80_older'] , [0.92307692,0.88461538,0.84615385,0.80769231,0.80769231]\n",
      "['population_density', 'marital_status_married', 'other_popl', 'educational_attainment_bachelors', 'household_type_single_male_count'] , [0.92307692,0.92307692,0.88461538,0.76923077,0.73076923]\n",
      "['population_density', 'marital_status_married', 'other_popl', 'educational_attainment_very_advanced_degrees', 'household_type_single_male_count'] , [0.92307692,0.92307692,0.88461538,0.76923077,0.73076923]\n",
      "['population_density', 'marital_status_never_married', 'black_popl', 'other_popl', 'educational_attainment_very_advanced_degrees'] , [0.92307692,0.88461538,0.88461538,0.80769231,0.80769231]\n",
      "['population_density', 'marital_status_never_married', 'black_popl', 'other_popl', 'household_type_married_count'] , [0.92307692,0.84615385,0.88461538,0.80769231,0.76923077]\n",
      "['population_density', 'marital_status_never_married', 'other_popl', 'educational_attainment_bachelors', 'household_type_single_male_count'] , [0.92307692,0.88461538,0.84615385,0.76923077,0.69230769]\n",
      "['population_density', 'marital_status_never_married', 'other_popl', 'educational_attainment_very_advanced_degrees', 'household_type_single_male_count'] , [0.88461538,0.92307692,0.88461538,0.76923077,0.73076923]\n",
      "['population_density', 'white_popl', 'asian_popl', 'other_popl', 'educational_attainment_very_advanced_degrees'] , [0.92307692,0.84615385,0.76923077,0.84615385,0.84615385]\n",
      "['population_density', 'white_popl', 'other_popl', 'educational_attainment_bachelors', 'household_type_single_male_count'] , [0.88461538,0.92307692,0.84615385,0.76923077,0.73076923]\n",
      "['population_density', 'white_popl', 'other_popl', 'educational_attainment_very_advanced_degrees', 'household_type_single_male_count'] , [0.88461538,0.92307692,0.88461538,0.76923077,0.73076923]\n",
      "['population_density', 'white_popl', 'other_popl', 'educational_attainment_very_advanced_degrees', 'Age_18_to_21'] , [0.92307692,0.88461538,0.76923077,0.84615385,0.84615385]\n",
      "['population_density', 'hispanic_popl', 'black_popl', 'other_popl', 'educational_attainment_very_advanced_degrees'] , [0.92307692,0.84615385,0.88461538,0.80769231,0.80769231]\n",
      "['population_density', 'hispanic_popl', 'black_popl', 'other_popl', 'household_type_married_count'] , [0.92307692,0.80769231,0.80769231,0.80769231,0.76923077]\n",
      "['population_density', 'hispanic_popl', 'other_popl', 'educational_attainment_very_advanced_degrees', 'household_type_with_children'] , [0.92307692,0.80769231,0.80769231,0.80769231,0.80769231]\n",
      "['population_density', 'hispanic_popl', 'other_popl', 'household_type_married_count', 'household_type_single_male_count'] , [0.92307692,0.84615385,0.84615385,0.80769231,0.76923077]\n",
      "['population_density', 'black_popl', 'mixed_popl', 'other_popl', 'educational_attainment_very_advanced_degrees'] , [0.92307692,0.88461538,0.88461538,0.80769231,0.80769231]\n",
      "['population_density', 'black_popl', 'mixed_popl', 'other_popl', 'household_type_married_count'] , [0.92307692,0.84615385,0.88461538,0.80769231,0.76923077]\n",
      "['population_density', 'black_popl', 'other_popl', 'educational_attainment_bachelors', 'household_type_married_count'] , [0.92307692,0.84615385,0.88461538,0.80769231,0.76923077]\n",
      "['population_density', 'black_popl', 'other_popl', 'educational_attainment_very_advanced_degrees', 'household_type_married_count'] , [0.92307692,0.88461538,0.88461538,0.80769231,0.80769231]\n",
      "['population_density', 'black_popl', 'other_popl', 'educational_attainment_very_advanced_degrees', 'household_type_with_children'] , [0.92307692,0.80769231,0.80769231,0.80769231,0.80769231]\n",
      "['population_density', 'black_popl', 'other_popl', 'household_type_married_count', 'household_type_single_male_count'] , [0.92307692,0.84615385,0.84615385,0.76923077,0.76923077]\n",
      "['population_density', 'black_popl', 'other_popl', 'household_type_married_count', 'Age_22_to_29'] , [0.92307692,0.84615385,0.88461538,0.80769231,0.76923077]\n",
      "['population_density', 'black_popl', 'other_popl', 'household_type_married_count', 'Age_80_older'] , [0.92307692,0.88461538,0.84615385,0.80769231,0.80769231]\n",
      "['population_density', 'black_popl', 'other_popl', 'Age_40_to_49', 'Age_80_older'] , [0.92307692,0.84615385,0.80769231,0.80769231,0.80769231]\n",
      "['population_density', 'asian_popl', 'other_popl', 'educational_attainment_bachelors', 'educational_attainment_very_advanced_degrees'] , [0.92307692,0.88461538,0.76923077,0.84615385,0.84615385]\n",
      "['population_density', 'asian_popl', 'other_popl', 'educational_attainment_bachelors', 'household_type_single_male_count'] , [0.92307692,0.92307692,0.88461538,0.76923077,0.73076923]\n",
      "['population_density', 'asian_popl', 'other_popl', 'educational_attainment_very_advanced_degrees', 'household_type_single_male_count'] , [0.92307692,0.92307692,0.88461538,0.76923077,0.73076923]\n",
      "['population_density', 'asian_popl', 'other_popl', 'educational_attainment_very_advanced_degrees', 'household_type_other_non_family_count'] , [0.92307692,0.84615385,0.76923077,0.80769231,0.84615385]\n",
      "['population_density', 'asian_popl', 'other_popl', 'educational_attainment_very_advanced_degrees', 'Age_18_to_21'] , [0.92307692,0.84615385,0.76923077,0.84615385,0.84615385]\n",
      "['population_density', 'mixed_popl', 'other_popl', 'educational_attainment_very_advanced_degrees', 'household_type_single_male_count'] , [0.88461538,0.92307692,0.88461538,0.76923077,0.73076923]\n",
      "['population_density', 'mixed_popl', 'other_popl', 'educational_attainment_very_advanced_degrees', 'household_type_with_children'] , [0.92307692,0.84615385,0.84615385,0.80769231,0.80769231]\n",
      "['population_density', 'other_popl', 'educational_attainment_bachelors', 'educational_attainment_very_advanced_degrees', 'household_type_single_male_count'] , [0.88461538,0.92307692,0.88461538,0.76923077,0.73076923]\n",
      "['population_density', 'other_popl', 'educational_attainment_bachelors', 'household_type_married_count', 'household_type_single_male_count'] , [0.88461538,0.92307692,0.88461538,0.76923077,0.73076923]\n",
      "['population_density', 'other_popl', 'educational_attainment_bachelors', 'household_type_single_male_count', 'Age_30_to_39'] , [0.88461538,0.92307692,0.84615385,0.76923077,0.69230769]\n",
      "['population_density', 'other_popl', 'educational_attainment_very_advanced_degrees', 'household_type_married_count', 'household_type_single_male_count'] , [0.92307692,0.92307692,0.88461538,0.76923077,0.73076923]\n",
      "['population_density', 'other_popl', 'educational_attainment_very_advanced_degrees', 'household_type_single_male_count', 'household_type_other_non_family_count'] , [0.88461538,0.92307692,0.88461538,0.76923077,0.73076923]\n",
      "['population_density', 'other_popl', 'educational_attainment_very_advanced_degrees', 'household_type_single_male_count', 'Age_18_to_21'] , [0.88461538,0.92307692,0.88461538,0.76923077,0.73076923]\n",
      "['population_density', 'other_popl', 'educational_attainment_very_advanced_degrees', 'household_type_single_male_count', 'Age_22_to_29'] , [0.88461538,0.92307692,0.88461538,0.76923077,0.73076923]\n",
      "['population_density', 'other_popl', 'educational_attainment_very_advanced_degrees', 'household_type_single_male_count', 'Age_30_to_39'] , [0.88461538,0.92307692,0.88461538,0.76923077,0.73076923]\n",
      "['population_density', 'other_popl', 'educational_attainment_very_advanced_degrees', 'household_type_with_children', 'Age_40_to_49'] , [0.92307692,0.80769231,0.84615385,0.80769231,0.80769231]\n",
      "['population_density', 'other_popl', 'Age_30_to_39', 'Age_40_to_49', 'Age_80_older'] , [0.84615385,0.88461538,0.92307692,0.80769231,0.73076923]\n",
      "['marital_status_never_married', 'white_popl', 'other_popl', 'household_type_married_count', 'household_type_other_non_family_count'] , [0.92307692,0.84615385,0.73076923,0.76923077,0.76923077]\n",
      "['marital_status_never_married', 'white_popl', 'educational_attainment_bachelors', 'Age_18_to_21', 'Age_80_older'] , [0.73076923,0.92307692,0.80769231,0.76923077,0.69230769]\n",
      "['marital_status_never_married', 'white_popl', 'Age_18_to_21', 'Age_22_to_29', 'Age_80_older'] , [0.88461538,0.92307692,0.76923077,0.76923077,0.69230769]\n",
      "['marital_status_never_married', 'mixed_popl', 'educational_attainment_bachelors', 'Age_18_to_21', 'Age_80_older'] , [0.73076923,0.92307692,0.73076923,0.69230769,0.57692308]\n",
      "['marital_status_never_married', 'other_popl', 'educational_attainment_bachelors', 'household_type_married_count', 'household_type_other_non_family_count'] , [0.92307692,0.84615385,0.69230769,0.80769231,0.76923077]\n",
      "['marital_status_never_married', 'other_popl', 'household_type_married_count', 'household_type_other_non_family_count', 'Age_22_to_29'] , [0.92307692,0.84615385,0.76923077,0.80769231,0.80769231]\n",
      "['marital_status_never_married', 'educational_attainment_bachelors', 'household_type_other_non_family_count', 'Age_18_to_21', 'Age_80_older'] , [0.76923077,0.92307692,0.84615385,0.76923077,0.73076923]\n",
      "['marital_status_never_married', 'educational_attainment_bachelors', 'Age_18_to_21', 'Age_22_to_29', 'Age_80_older'] , [0.80769231,0.92307692,0.76923077,0.76923077,0.73076923]\n",
      "['white_popl', 'mixed_popl', 'educational_attainment_bachelors', 'Age_18_to_21', 'Age_80_older'] , [0.80769231,0.92307692,0.69230769,0.69230769,0.57692308]\n",
      "['mixed_popl', 'educational_attainment_bachelors', 'Age_18_to_21', 'Age_22_to_29', 'Age_80_older'] , [0.76923077,0.92307692,0.69230769,0.69230769,0.61538462]\n",
      "Total time:  3601.320166826248\n"
     ]
    }
   ],
   "source": [
    "cutoff = 0.92\n",
    "\n",
    "begin = time()\n",
    "featStr3 = \"\"\n",
    "for i in range(len(featurelist)-4):\n",
    "    for j in range(i+1,len(featurelist)-3):\n",
    "        for k in range(j+1,len(featurelist)-2):\n",
    "            for p in range(k+1,len(featurelist)-1):\n",
    "                for q in range(p+1,len(featurelist)):\n",
    "                    features = [featurelist[i],featurelist[j],featurelist[k],featurelist[p],featurelist[q]]\n",
    "                    data = np.array(dfScaled[features])\n",
    "                    accuracyList = KNN(data,labels,prnt=False)\n",
    "                    a = str(accuracyList[:5]).replace('\\n','')\n",
    "                    a = a.replace(' ',',')\n",
    "                    if accuracyList.max() > cutoff:\n",
    "                        print(features,\",\",a)\n",
    "                        featStr3 = featStr3+str(features)\n",
    "end = time()\n",
    "print(\"Total time: \", str(end-begin))"
   ]
  },
  {
   "cell_type": "markdown",
   "metadata": {},
   "source": [
    "Of the 324,632 (thirty-five choose five) feature-sets checked in 3601 seconds, let's see how many appear favorable for further inspection. Of special note, no pentuples were even checked before because of the time requirement for computation."
   ]
  },
  {
   "cell_type": "code",
   "execution_count": 281,
   "metadata": {},
   "outputs": [],
   "source": [
    "fiveFeatures = [['transit_score', 'marital_status_married', 'hispanic_popl', 'other_popl', 'household_type_single_female_count'],\n",
    "['bike_score', 'population_density', 'other_popl', 'educational_attainment_very_advanced_degrees', 'household_type_single_male_count'],\n",
    "['bike_score', 'population_density', 'other_popl', 'household_type_married_count', 'household_type_single_male_count'],\n",
    "['bike_score', 'population_density', 'other_popl', 'household_type_married_count', 'household_type_one_person_count'],\n",
    "['bike_score', 'population_density', 'other_popl', 'household_type_married_count', 'Age_30_to_39'],\n",
    "['bike_score', 'population_density', 'educational_attainment_very_advanced_degrees', 'household_type_single_male_count', 'Age_50_to_59'],\n",
    "['bike_score', 'marital_status_married', 'household_type_one_person_count', 'household_type_other_non_family_count', 'Age_22_to_29'],\n",
    "['bike_score', 'marital_status_married', 'household_type_one_person_count', 'Age_18_to_21', 'Age_22_to_29'],\n",
    "['bike_score', 'marital_status_never_married', 'asian_popl', 'household_type_one_person_count', 'Age_22_to_29'],\n",
    "['bike_score', 'household_type_married_count', 'household_type_one_person_count', 'household_type_other_non_family_count', 'Age_22_to_29'],\n",
    "['population', 'population_density', 'black_popl', 'other_popl', 'educational_attainment_very_advanced_degrees'],\n",
    "['population', 'population_density', 'black_popl', 'other_popl', 'household_type_married_count'],\n",
    "['population', 'population_density', 'mixed_popl', 'other_popl', 'educational_attainment_very_advanced_degrees'],\n",
    "['population', 'population_density', 'other_popl', 'educational_attainment_very_advanced_degrees', 'household_type_single_male_count'],\n",
    "['population', 'population_density', 'other_popl', 'Age_30_to_39', 'Age_80_older'],\n",
    "['population_density', 'marital_status_married', 'marital_status_never_married', 'black_popl', 'other_popl'],\n",
    "['population_density', 'marital_status_married', 'white_popl', 'black_popl', 'other_popl'],\n",
    "['population_density', 'marital_status_married', 'hispanic_popl', 'other_popl', 'household_type_single_male_count'],\n",
    "['population_density', 'marital_status_married', 'black_popl', 'other_popl', 'educational_attainment_bachelors'],\n",
    "['population_density', 'marital_status_married', 'black_popl', 'other_popl', 'educational_attainment_very_advanced_degrees'],\n",
    "['population_density', 'marital_status_married', 'black_popl', 'other_popl', 'household_type_other_non_family_count'],\n",
    "['population_density', 'marital_status_married', 'black_popl', 'other_popl', 'Age_80_older'],\n",
    "['population_density', 'marital_status_married', 'other_popl', 'educational_attainment_bachelors', 'household_type_single_male_count'],\n",
    "['population_density', 'marital_status_married', 'other_popl', 'educational_attainment_very_advanced_degrees', 'household_type_single_male_count'],\n",
    "['population_density', 'marital_status_never_married', 'black_popl', 'other_popl', 'educational_attainment_very_advanced_degrees'],\n",
    "['population_density', 'marital_status_never_married', 'black_popl', 'other_popl', 'household_type_married_count'],\n",
    "['population_density', 'marital_status_never_married', 'other_popl', 'educational_attainment_bachelors', 'household_type_single_male_count'],\n",
    "['population_density', 'marital_status_never_married', 'other_popl', 'educational_attainment_very_advanced_degrees', 'household_type_single_male_count'],\n",
    "['population_density', 'white_popl', 'asian_popl', 'other_popl', 'educational_attainment_very_advanced_degrees'],\n",
    "['population_density', 'white_popl', 'other_popl', 'educational_attainment_bachelors', 'household_type_single_male_count'],\n",
    "['population_density', 'white_popl', 'other_popl', 'educational_attainment_very_advanced_degrees', 'household_type_single_male_count'],\n",
    "['population_density', 'white_popl', 'other_popl', 'educational_attainment_very_advanced_degrees', 'Age_18_to_21'],\n",
    "['population_density', 'hispanic_popl', 'black_popl', 'other_popl', 'educational_attainment_very_advanced_degrees'],\n",
    "['population_density', 'hispanic_popl', 'black_popl', 'other_popl', 'household_type_married_count'],\n",
    "['population_density', 'hispanic_popl', 'other_popl', 'educational_attainment_very_advanced_degrees', 'household_type_with_children'],\n",
    "['population_density', 'hispanic_popl', 'other_popl', 'household_type_married_count', 'household_type_single_male_count'],\n",
    "['population_density', 'black_popl', 'mixed_popl', 'other_popl', 'educational_attainment_very_advanced_degrees'],\n",
    "['population_density', 'black_popl', 'mixed_popl', 'other_popl', 'household_type_married_count'],\n",
    "['population_density', 'black_popl', 'other_popl', 'educational_attainment_bachelors', 'household_type_married_count'],\n",
    "['population_density', 'black_popl', 'other_popl', 'educational_attainment_very_advanced_degrees', 'household_type_married_count'],\n",
    "['population_density', 'black_popl', 'other_popl', 'educational_attainment_very_advanced_degrees', 'household_type_with_children'],\n",
    "['population_density', 'black_popl', 'other_popl', 'household_type_married_count', 'household_type_single_male_count'],\n",
    "['population_density', 'black_popl', 'other_popl', 'household_type_married_count', 'Age_22_to_29'],\n",
    "['population_density', 'black_popl', 'other_popl', 'household_type_married_count', 'Age_80_older'],\n",
    "['population_density', 'black_popl', 'other_popl', 'Age_40_to_49', 'Age_80_older'],\n",
    "['population_density', 'asian_popl', 'other_popl', 'educational_attainment_bachelors', 'educational_attainment_very_advanced_degrees'],\n",
    "['population_density', 'asian_popl', 'other_popl', 'educational_attainment_bachelors', 'household_type_single_male_count'],\n",
    "['population_density', 'asian_popl', 'other_popl', 'educational_attainment_very_advanced_degrees', 'household_type_single_male_count'],\n",
    "['population_density', 'asian_popl', 'other_popl', 'educational_attainment_very_advanced_degrees', 'household_type_other_non_family_count'],\n",
    "['population_density', 'asian_popl', 'other_popl', 'educational_attainment_very_advanced_degrees', 'Age_18_to_21'],\n",
    "['population_density', 'mixed_popl', 'other_popl', 'educational_attainment_very_advanced_degrees', 'household_type_single_male_count'],\n",
    "['population_density', 'mixed_popl', 'other_popl', 'educational_attainment_very_advanced_degrees', 'household_type_with_children'],\n",
    "['population_density', 'other_popl', 'educational_attainment_bachelors', 'educational_attainment_very_advanced_degrees', 'household_type_single_male_count'],\n",
    "['population_density', 'other_popl', 'educational_attainment_bachelors', 'household_type_married_count', 'household_type_single_male_count'],\n",
    "['population_density', 'other_popl', 'educational_attainment_bachelors', 'household_type_single_male_count', 'Age_30_to_39'],\n",
    "['population_density', 'other_popl', 'educational_attainment_very_advanced_degrees', 'household_type_married_count', 'household_type_single_male_count'],\n",
    "['population_density', 'other_popl', 'educational_attainment_very_advanced_degrees', 'household_type_single_male_count', 'household_type_other_non_family_count'],\n",
    "['population_density', 'other_popl', 'educational_attainment_very_advanced_degrees', 'household_type_single_male_count', 'Age_18_to_21'],\n",
    "['population_density', 'other_popl', 'educational_attainment_very_advanced_degrees', 'household_type_single_male_count', 'Age_22_to_29'],\n",
    "['population_density', 'other_popl', 'educational_attainment_very_advanced_degrees', 'household_type_single_male_count', 'Age_30_to_39'],\n",
    "['population_density', 'other_popl', 'educational_attainment_very_advanced_degrees', 'household_type_with_children', 'Age_40_to_49'],\n",
    "['population_density', 'other_popl', 'Age_30_to_39', 'Age_40_to_49', 'Age_80_older'],\n",
    "['marital_status_never_married', 'white_popl', 'other_popl', 'household_type_married_count', 'household_type_other_non_family_count'],\n",
    "['marital_status_never_married', 'white_popl', 'educational_attainment_bachelors', 'Age_18_to_21', 'Age_80_older'],\n",
    "['marital_status_never_married', 'white_popl', 'Age_18_to_21', 'Age_22_to_29', 'Age_80_older'],\n",
    "['marital_status_never_married', 'mixed_popl', 'educational_attainment_bachelors', 'Age_18_to_21', 'Age_80_older'],\n",
    "['marital_status_never_married', 'other_popl', 'educational_attainment_bachelors', 'household_type_married_count', 'household_type_other_non_family_count'],\n",
    "['marital_status_never_married', 'other_popl', 'household_type_married_count', 'household_type_other_non_family_count', 'Age_22_to_29'],\n",
    "['marital_status_never_married', 'educational_attainment_bachelors', 'household_type_other_non_family_count', 'Age_18_to_21', 'Age_80_older'],\n",
    "['marital_status_never_married', 'educational_attainment_bachelors', 'Age_18_to_21', 'Age_22_to_29', 'Age_80_older'],\n",
    "['white_popl', 'mixed_popl', 'educational_attainment_bachelors', 'Age_18_to_21', 'Age_80_older'],\n",
    "['mixed_popl', 'educational_attainment_bachelors', 'Age_18_to_21', 'Age_22_to_29', 'Age_80_older']]"
   ]
  },
  {
   "cell_type": "markdown",
   "metadata": {},
   "source": [
    "And let's check their accuracies.  "
   ]
  },
  {
   "cell_type": "code",
   "execution_count": 282,
   "metadata": {},
   "outputs": [
    {
     "name": "stdout",
     "output_type": "stream",
     "text": [
      "['transit_score', 'marital_status_married', 'hispanic_popl', 'other_popl', 'household_type_single_female_count']  ,  [0.8788005 0.8006637 0.7620105 0.8075767 0.8068931]\n",
      "['bike_score', 'population_density', 'other_popl', 'educational_attainment_very_advanced_degrees', 'household_type_single_male_count']  ,  [0.8504918 0.8434005 0.8780055 0.8075057 0.7989717]\n",
      "['bike_score', 'population_density', 'other_popl', 'household_type_married_count', 'household_type_single_male_count']  ,  [0.8657361 0.8443535 0.8669588 0.8055041 0.788274 ]\n",
      "['bike_score', 'population_density', 'other_popl', 'household_type_married_count', 'household_type_one_person_count']  ,  [0.9040723 0.8339667 0.8357331 0.8092873 0.8063355]\n",
      "['bike_score', 'population_density', 'other_popl', 'household_type_married_count', 'Age_30_to_39']  ,  [0.8901577 0.8334973 0.8324299 0.8096012 0.8072336]\n",
      "['bike_score', 'population_density', 'educational_attainment_very_advanced_degrees', 'household_type_single_male_count', 'Age_50_to_59']  ,  [0.8842004 0.8386664 0.8522127 0.808005  0.8004358]\n",
      "['bike_score', 'marital_status_married', 'household_type_one_person_count', 'household_type_other_non_family_count', 'Age_22_to_29']  ,  [0.8618092 0.8062523 0.7956459 0.8051352 0.7959895]\n",
      "['bike_score', 'marital_status_married', 'household_type_one_person_count', 'Age_18_to_21', 'Age_22_to_29']  ,  [0.8642199 0.8058391 0.7958956 0.8043548 0.7953055]\n",
      "['bike_score', 'marital_status_never_married', 'asian_popl', 'household_type_one_person_count', 'Age_22_to_29']  ,  [0.8645352 0.8027757 0.7695365 0.8012566 0.789962 ]\n",
      "['bike_score', 'household_type_married_count', 'household_type_one_person_count', 'household_type_other_non_family_count', 'Age_22_to_29']  ,  [0.8618412 0.8060526 0.7939433 0.804452  0.7944717]\n",
      "['population', 'population_density', 'black_popl', 'other_popl', 'educational_attainment_very_advanced_degrees']  ,  [0.8968329 0.8530654 0.8370386 0.8003905 0.7773691]\n",
      "['population', 'population_density', 'black_popl', 'other_popl', 'household_type_married_count']  ,  [0.8938856 0.8369339 0.834068  0.8016034 0.7832457]\n",
      "['population', 'population_density', 'mixed_popl', 'other_popl', 'educational_attainment_very_advanced_degrees']  ,  [0.8738742 0.8602486 0.8591987 0.8019794 0.7736593]\n",
      "['population', 'population_density', 'other_popl', 'educational_attainment_very_advanced_degrees', 'household_type_single_male_count']  ,  [0.8708405 0.8718636 0.8249959 0.7769005 0.7469197]\n",
      "['population', 'population_density', 'other_popl', 'Age_30_to_39', 'Age_80_older']  ,  [0.876443  0.8583033 0.8492233 0.8044576 0.7917454]\n",
      "['population_density', 'marital_status_married', 'marital_status_never_married', 'black_popl', 'other_popl']  ,  [0.8853134 0.8105436 0.8192969 0.7981722 0.7775814]\n",
      "['population_density', 'marital_status_married', 'white_popl', 'black_popl', 'other_popl']  ,  [0.8892781 0.8151195 0.8197963 0.8026502 0.7830745]\n",
      "['population_density', 'marital_status_married', 'hispanic_popl', 'other_popl', 'household_type_single_male_count']  ,  [0.8753645 0.818011  0.767386  0.7906393 0.7570475]\n",
      "['population_density', 'marital_status_married', 'black_popl', 'other_popl', 'educational_attainment_bachelors']  ,  [0.8878648 0.8144594 0.8219288 0.8016536 0.782728 ]\n",
      "['population_density', 'marital_status_married', 'black_popl', 'other_popl', 'educational_attainment_very_advanced_degrees']  ,  [0.9040028 0.855782  0.8351732 0.7987862 0.7716829]\n",
      "['population_density', 'marital_status_married', 'black_popl', 'other_popl', 'household_type_other_non_family_count']  ,  [0.8838629 0.8099266 0.8150698 0.7967386 0.7758856]\n",
      "['population_density', 'marital_status_married', 'black_popl', 'other_popl', 'Age_80_older']  ,  [0.9002665 0.8526309 0.8311414 0.8060337 0.7873565]\n",
      "['population_density', 'marital_status_married', 'other_popl', 'educational_attainment_bachelors', 'household_type_single_male_count']  ,  [0.9009108 0.8721156 0.8197169 0.7795008 0.751517 ]\n",
      "['population_density', 'marital_status_married', 'other_popl', 'educational_attainment_very_advanced_degrees', 'household_type_single_male_count']  ,  [0.9036895 0.8699123 0.8222367 0.7756054 0.7464738]\n",
      "['population_density', 'marital_status_never_married', 'black_popl', 'other_popl', 'educational_attainment_very_advanced_degrees']  ,  [0.897302  0.8525491 0.8372024 0.79816   0.7707904]\n",
      "['population_density', 'marital_status_never_married', 'black_popl', 'other_popl', 'household_type_married_count']  ,  [0.8910063 0.8339683 0.8325376 0.7989721 0.7801162]\n",
      "['population_density', 'marital_status_never_married', 'other_popl', 'educational_attainment_bachelors', 'household_type_single_male_count']  ,  [0.879119  0.8462366 0.7922147 0.7702749 0.7356498]\n",
      "['population_density', 'marital_status_never_married', 'other_popl', 'educational_attainment_very_advanced_degrees', 'household_type_single_male_count']  ,  [0.87089   0.8734464 0.82818   0.777218  0.7428906]\n",
      "['population_density', 'white_popl', 'asian_popl', 'other_popl', 'educational_attainment_very_advanced_degrees']  ,  [0.8773119 0.8324086 0.7889017 0.8246881 0.8017123]\n",
      "['population_density', 'white_popl', 'other_popl', 'educational_attainment_bachelors', 'household_type_single_male_count']  ,  [0.8558533 0.8660106 0.8026088 0.7744055 0.7417391]\n",
      "['population_density', 'white_popl', 'other_popl', 'educational_attainment_very_advanced_degrees', 'household_type_single_male_count']  ,  [0.868125  0.8703964 0.8227184 0.7762526 0.7462545]\n",
      "['population_density', 'white_popl', 'other_popl', 'educational_attainment_very_advanced_degrees', 'Age_18_to_21']  ,  [0.8885687 0.842478  0.78293   0.8244192 0.8034749]\n",
      "['population_density', 'hispanic_popl', 'black_popl', 'other_popl', 'educational_attainment_very_advanced_degrees']  ,  [0.885574  0.8354193 0.8389346 0.8037049 0.783712 ]\n",
      "['population_density', 'hispanic_popl', 'black_popl', 'other_popl', 'household_type_married_count']  ,  [0.8842013 0.8066886 0.7961988 0.7988368 0.7809446]\n",
      "['population_density', 'hispanic_popl', 'other_popl', 'educational_attainment_very_advanced_degrees', 'household_type_with_children']  ,  [0.8955062 0.8083195 0.8010123 0.8063023 0.7931547]\n",
      "['population_density', 'hispanic_popl', 'other_popl', 'household_type_married_count', 'household_type_single_male_count']  ,  [0.8782611 0.8314883 0.8106019 0.7969704 0.7676378]\n",
      "['population_density', 'black_popl', 'mixed_popl', 'other_popl', 'educational_attainment_very_advanced_degrees']  ,  [0.8969174 0.8544452 0.8376187 0.8024537 0.7733503]\n",
      "['population_density', 'black_popl', 'mixed_popl', 'other_popl', 'household_type_married_count']  ,  [0.8919837 0.8351172 0.8303033 0.799139  0.7790831]\n",
      "['population_density', 'black_popl', 'other_popl', 'educational_attainment_bachelors', 'household_type_married_count']  ,  [0.8978204 0.838562  0.8381668 0.8016    0.7832925]\n",
      "['population_density', 'black_popl', 'other_popl', 'educational_attainment_very_advanced_degrees', 'household_type_married_count']  ,  [0.903752  0.8543708 0.843537  0.802858  0.7814812]\n",
      "['population_density', 'black_popl', 'other_popl', 'educational_attainment_very_advanced_degrees', 'household_type_with_children']  ,  [0.8780105 0.8055417 0.7956819 0.8036579 0.7895964]\n",
      "['population_density', 'black_popl', 'other_popl', 'household_type_married_count', 'household_type_single_male_count']  ,  [0.8745052 0.8265414 0.8064846 0.780452  0.7594   ]\n",
      "['population_density', 'black_popl', 'other_popl', 'household_type_married_count', 'Age_22_to_29']  ,  [0.8904838 0.8351856 0.8326871 0.7997208 0.7804126]\n",
      "['population_density', 'black_popl', 'other_popl', 'household_type_married_count', 'Age_80_older']  ,  [0.8988843 0.8503481 0.8311547 0.8034232 0.7870462]\n",
      "['population_density', 'black_popl', 'other_popl', 'Age_40_to_49', 'Age_80_older']  ,  [0.893067  0.8259023 0.8122501 0.8027198 0.7859262]\n",
      "['population_density', 'asian_popl', 'other_popl', 'educational_attainment_bachelors', 'educational_attainment_very_advanced_degrees']  ,  [0.8894873 0.8531047 0.7886467 0.825355  0.8035258]\n",
      "['population_density', 'asian_popl', 'other_popl', 'educational_attainment_bachelors', 'household_type_single_male_count']  ,  [0.8782543 0.8710646 0.8165182 0.7766514 0.7456842]\n",
      "['population_density', 'asian_popl', 'other_popl', 'educational_attainment_very_advanced_degrees', 'household_type_single_male_count']  ,  [0.8891824 0.871495  0.8246149 0.7775044 0.7446585]\n",
      "['population_density', 'asian_popl', 'other_popl', 'educational_attainment_very_advanced_degrees', 'household_type_other_non_family_count']  ,  [0.8765177 0.81819   0.7670882 0.8099212 0.7929637]\n",
      "['population_density', 'asian_popl', 'other_popl', 'educational_attainment_very_advanced_degrees', 'Age_18_to_21']  ,  [0.8819533 0.8219009 0.7774953 0.8238899 0.8037436]\n",
      "['population_density', 'mixed_popl', 'other_popl', 'educational_attainment_very_advanced_degrees', 'household_type_single_male_count']  ,  [0.8751412 0.8725646 0.8219868 0.774521  0.7345818]\n",
      "['population_density', 'mixed_popl', 'other_popl', 'educational_attainment_very_advanced_degrees', 'household_type_with_children']  ,  [0.8855512 0.8323227 0.8278939 0.8058039 0.7903241]\n",
      "['population_density', 'other_popl', 'educational_attainment_bachelors', 'educational_attainment_very_advanced_degrees', 'household_type_single_male_count']  ,  [0.8691407 0.8723265 0.8276094 0.7777844 0.7531989]\n",
      "['population_density', 'other_popl', 'educational_attainment_bachelors', 'household_type_married_count', 'household_type_single_male_count']  ,  [0.874545  0.8702428 0.8183337 0.7766557 0.753403 ]\n",
      "['population_density', 'other_popl', 'educational_attainment_bachelors', 'household_type_single_male_count', 'Age_30_to_39']  ,  [0.8578855 0.8657629 0.7916305 0.7706205 0.7353436]\n",
      "['population_density', 'other_popl', 'educational_attainment_very_advanced_degrees', 'household_type_married_count', 'household_type_single_male_count']  ,  [0.9036705 0.8713268 0.8261968 0.7768885 0.7542541]\n",
      "['population_density', 'other_popl', 'educational_attainment_very_advanced_degrees', 'household_type_single_male_count', 'household_type_other_non_family_count']  ,  [0.8678578 0.8729312 0.8264793 0.7773866 0.7444389]\n",
      "['population_density', 'other_popl', 'educational_attainment_very_advanced_degrees', 'household_type_single_male_count', 'Age_18_to_21']  ,  [0.8681147 0.8737314 0.8259453 0.7780763 0.7451455]\n",
      "['population_density', 'other_popl', 'educational_attainment_very_advanced_degrees', 'household_type_single_male_count', 'Age_22_to_29']  ,  [0.8692772 0.873595  0.8260789 0.776666  0.7417883]\n",
      "['population_density', 'other_popl', 'educational_attainment_very_advanced_degrees', 'household_type_single_male_count', 'Age_30_to_39']  ,  [0.8617114 0.8718765 0.8227646 0.7743552 0.7395443]\n",
      "['population_density', 'other_popl', 'educational_attainment_very_advanced_degrees', 'household_type_with_children', 'Age_40_to_49']  ,  [0.8862925 0.8145394 0.8310702 0.8064539 0.7949055]\n",
      "['population_density', 'other_popl', 'Age_30_to_39', 'Age_40_to_49', 'Age_80_older']  ,  [0.8397866 0.8578346 0.8428732 0.7915956 0.7690875]\n",
      "['marital_status_never_married', 'white_popl', 'other_popl', 'household_type_married_count', 'household_type_other_non_family_count']  ,  [0.8668153 0.8152121 0.7436861 0.786612  0.7720547]\n",
      "['marital_status_never_married', 'white_popl', 'educational_attainment_bachelors', 'Age_18_to_21', 'Age_80_older']  ,  [0.7445095 0.8604054 0.7648805 0.7669602 0.7158255]\n",
      "['marital_status_never_married', 'white_popl', 'Age_18_to_21', 'Age_22_to_29', 'Age_80_older']  ,  [0.8500587 0.8528016 0.7400736 0.7660741 0.7218953]\n",
      "['marital_status_never_married', 'mixed_popl', 'educational_attainment_bachelors', 'Age_18_to_21', 'Age_80_older']  ,  [0.7302323 0.8429989 0.6863656 0.7251804 0.6922349]\n",
      "['marital_status_never_married', 'other_popl', 'educational_attainment_bachelors', 'household_type_married_count', 'household_type_other_non_family_count']  ,  [0.8714146 0.8133358 0.7384923 0.7975107 0.7710895]\n",
      "['marital_status_never_married', 'other_popl', 'household_type_married_count', 'household_type_other_non_family_count', 'Age_22_to_29']  ,  [0.8637681 0.8193093 0.7749142 0.8033371 0.7858949]\n",
      "['marital_status_never_married', 'educational_attainment_bachelors', 'household_type_other_non_family_count', 'Age_18_to_21', 'Age_80_older']  ,  [0.7546131 0.8652728 0.7780618 0.7715168 0.7228069]\n",
      "['marital_status_never_married', 'educational_attainment_bachelors', 'Age_18_to_21', 'Age_22_to_29', 'Age_80_older']  ,  [0.7951748 0.8545565 0.7487369 0.7713041 0.7241794]\n",
      "['white_popl', 'mixed_popl', 'educational_attainment_bachelors', 'Age_18_to_21', 'Age_80_older']  ,  [0.7727827 0.8414911 0.6807779 0.7258444 0.691499 ]\n",
      "['mixed_popl', 'educational_attainment_bachelors', 'Age_18_to_21', 'Age_22_to_29', 'Age_80_older']  ,  [0.7650799 0.840836  0.6813559 0.7319141 0.7065937]\n"
     ]
    }
   ],
   "source": [
    "for featureset in fiveFeatures:\n",
    "    print(featureset,\" , \",getAvgAccuracyNTrials(featureset,dfScaled,trials = 10000,k_max = 6))"
   ]
  },
  {
   "cell_type": "markdown",
   "metadata": {},
   "source": [
    "#  Conclusion: Very nice!\n",
    "\n",
    "This is a fantastic result.  It allows us to much more quickly discover possible high-accuracy feature-sets.  \n",
    "- Is this a general result or is it specific to these data?  \n",
    "- How can we further improve this result?  \n",
    "- What other results can we use to suggest high-accuracy feature sets?\n",
    "- How inaccurate is this method? i.e. Are there bounds on how far off the predicted accuracy is from the true accuracy?"
   ]
  },
  {
   "cell_type": "code",
   "execution_count": null,
   "metadata": {},
   "outputs": [],
   "source": []
  }
 ],
 "metadata": {
  "kernelspec": {
   "display_name": "Python 3",
   "language": "python",
   "name": "python3"
  },
  "language_info": {
   "codemirror_mode": {
    "name": "ipython",
    "version": 3
   },
   "file_extension": ".py",
   "mimetype": "text/x-python",
   "name": "python",
   "nbconvert_exporter": "python",
   "pygments_lexer": "ipython3",
   "version": "3.7.4"
  }
 },
 "nbformat": 4,
 "nbformat_minor": 4
}
