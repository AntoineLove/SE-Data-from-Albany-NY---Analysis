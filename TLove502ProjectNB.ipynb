{
 "cells": [
  {
   "cell_type": "markdown",
   "id": "86381ed2-bcb0-4cde-8d7b-d9e7fd89fbea",
   "metadata": {},
   "source": [
    "# On Questions Relating to Socioeconomic Data in Albany NY"
   ]
  },
  {
   "cell_type": "markdown",
   "id": "22cd688b-0887-4c94-bc7f-376592314f33",
   "metadata": {},
   "source": [
    "*Special Note: All simulations have been reduced to 10 or 100 trials each.  Running this notebook's simulations with such low trial counts provides you with very fast simulations, but statistically insignificant results.  For any given simulation you'll need on the order of one to ten thousand trials for a given feature set to determine the significance of the determined average accuracy.  On these orders of magnitude the simulations can take days to weeks to complete.  Hence, the reduction to 10 or 100 trials.*"
   ]
  },
  {
   "cell_type": "markdown",
   "id": "72520486-470d-4bc6-9414-db59a4b83925",
   "metadata": {},
   "source": [
    "## Data\n",
    "Census/Walk Data: (contained in the Dataset.csv file)\n",
    "* https://dataverse.harvard.edu/dataset.xhtml?persistentId=doi:10.7910/DVN/WQ2M1H\n",
    "\n",
    "Neighborhood maps and Census/Walk Data Source:\n",
    "* https://statisticalatlas.com/place/New-York/Albany/Overview\n",
    "\n",
    "HOLC Grading Data: (labels from the 1935-1940 HOLC grading of albany districts at the time.  Meticulous inspection of the 1940s neighborhood map and the current neighborhood map was performed to obtain the modern neighborhood gradings by hand.)\n",
    "* https://dsl.richmond.edu/panorama/redlining/#loc=16/42.656/-73.799&maps=0&city=albany-ny \n",
    "\n",
    "Free Food Fridge Data: (data taken by hand from neighborhood maps and fridge locations)\n",
    "* https://freefoodfridgealbany.com/\n",
    "\n",
    "## Classification Problems\n",
    "The standing classification problems are, \n",
    "* \"Are there modern features in this dataset which correlate with the HOLC gradings from 1935-1940?\", and, \n",
    "* \"Are there modern features which classify the neighborhoods which contain free food fridges?\"\n",
    "\n",
    "## Prediction from Classifiers\n",
    "Furthermore, a prediction and suggestion problem is apparent.  \n",
    "* For neighborhoods which were not graded in the 1930s, what would their grade be based on our classifier? \n",
    "* For neighborhoods which do not have a free food fridge, which would our classifier predict would have one?\n",
    "\n",
    "## Initial Thoughts\n",
    "Features related to education, income, diversity, and population density might be good starting places."
   ]
  },
  {
   "cell_type": "markdown",
   "id": "c83227dc-c307-4e48-8c9c-63fd6d9eee72",
   "metadata": {},
   "source": [
    "# Importing of Necessary Packages"
   ]
  },
  {
   "cell_type": "code",
   "execution_count": 1,
   "id": "1f0ccb25-f415-4822-be16-039f7318fad8",
   "metadata": {},
   "outputs": [],
   "source": [
    "import numpy as np\n",
    "import matplotlib.pyplot as plt\n",
    "import pandas as pd\n",
    "import seaborn as sns\n",
    "from sklearn.neighbors import KNeighborsClassifier\n",
    "from sklearn.model_selection import train_test_split\n",
    "from sklearn import preprocessing\n",
    "from sklearn.preprocessing import MaxAbsScaler\n"
   ]
  },
  {
   "cell_type": "markdown",
   "id": "40590cd5-3a99-409f-ba69-ff832540718c",
   "metadata": {},
   "source": [
    "## Constructing Initial Dataframe from Census/Walk Dataset"
   ]
  },
  {
   "cell_type": "code",
   "execution_count": 2,
   "id": "e023b395-ba3e-49ed-9e6e-504011f7b0f5",
   "metadata": {},
   "outputs": [],
   "source": [
    "dataFrame = pd.read_csv(\"Dataset.csv\")"
   ]
  },
  {
   "cell_type": "markdown",
   "id": "6a3886d1-c497-4105-af76-ab4c1349bf76",
   "metadata": {},
   "source": [
    "## Constructing the Dataframe with Selected Features\n",
    "Not all 110 features are of initial interest.  Only the following features will be used.\n",
    "\n",
    "Upon inspection, there are very little data on the neighborhoods Pastures and West End beyond basic census data.  They will not be used for several fits and tests later on.\n",
    "\n",
    "Walk/Bike/Transit scores for Eagle Hill need to be filled in.  After inspecting the neighborhood maps, Eagle Hill is the southern portion of \"Campus/University\" district.  Hence, I will use WalkScore's ratings for the campus area.  These are walk score 35, transit score 45, and bike score 33.  These changes were made to the .csv file and were not done within this python notebook.\n",
    "\n",
    "Job Sector features include many missing datapoints.  Without knowledge of unemployed persons, these missing data cannot be imputed.  Therefore, these features should be skipped in any analysis."
   ]
  },
  {
   "cell_type": "code",
   "execution_count": 3,
   "id": "85fbbfd0-1558-4be7-a3d9-16c0d05c6592",
   "metadata": {},
   "outputs": [],
   "source": [
    "#An initial dataframe with all of the possibly pertinent features.\n",
    "\n",
    "dfFullOLD = dataFrame[['nei_final_simple','walk_score','transit_score','bike_score','population',\n",
    "           'population_density','household_income','marital_status_married','marital_status_separated_divorce',\n",
    "           'marital_status_widowed','marital_status_never_married','white_popl',\n",
    "            'hispanic_popl','black_popl','asian_popl','mixed_popl','other_popl','food_stamps_total',\n",
    "            'educational_attainment_no_hs','educational_attainment_bachelors','educational_attainment_very_advanced_degrees',\n",
    "            'private_sector','self_employed_sector','non_profit_sector','household_type_married_count',\n",
    "            'household_type_single_female_count','household_type_single_male_count','household_type_one_person_count',\n",
    "            'household_type_other_non_family_count','household_type_with_children','Age_0_to_17','Age_18_to_21',\n",
    "            'Age_22_to_29','Age_30_to_39','Age_40_to_49','Age_50_to_59','Age_60_to_69','Age_70_to_79','Age_80_older']]\n",
    "\n",
    "fullfeaturelist = ['nei_final_simple','walk_score','transit_score','bike_score','population',\n",
    "           'population_density','household_income','marital_status_married','marital_status_separated_divorce',\n",
    "           'marital_status_widowed','marital_status_never_married','white_popl',\n",
    "            'hispanic_popl','black_popl','asian_popl','mixed_popl','other_popl','food_stamps_total',\n",
    "            'educational_attainment_no_hs','educational_attainment_bachelors','educational_attainment_very_advanced_degrees',\n",
    "            'household_type_married_count', 'household_type_single_female_count',\n",
    "            'household_type_single_male_count','household_type_one_person_count',\n",
    "            'household_type_other_non_family_count','household_type_with_children','Age_0_to_17','Age_18_to_21',\n",
    "            'Age_22_to_29','Age_30_to_39','Age_40_to_49','Age_50_to_59','Age_60_to_69','Age_70_to_79','Age_80_older']\n",
    "\n",
    "featurelist = fullfeaturelist[1:]\n",
    "\n",
    "# A new dataframe after removing job sector data since much of this is missing across many neighborhoods.\n",
    "dfFull = dataFrame[fullfeaturelist]\n",
    "\n",
    "# Taking out Pastures Neighborhood because of large lack of data.\n",
    "df = pd.DataFrame(dfFull[dfFull['nei_final_simple']!= 'Pastures'],columns = fullfeaturelist)\n",
    "# Taking out West End Neighborhood because of large lack of data.\n",
    "df = pd.DataFrame(df[df['nei_final_simple'] != 'West End'],columns = fullfeaturelist)\n",
    "df.reset_index(drop = True, inplace=True)\n"
   ]
  },
  {
   "cell_type": "markdown",
   "id": "10799c6e-c3ef-4bba-b37e-20c90e4a4295",
   "metadata": {},
   "source": [
    "## Normalizing the Dataframe"
   ]
  },
  {
   "cell_type": "code",
   "execution_count": 4,
   "id": "015f20d8-7d79-450a-aee1-a0c6e2ea726b",
   "metadata": {},
   "outputs": [],
   "source": [
    "scaler = MaxAbsScaler()\n",
    "scaler.fit(df[featurelist])\n",
    "scaledData = scaler.transform(df[featurelist])\n",
    "dfScaled = pd.DataFrame(scaledData,columns=featurelist)\n",
    "dfScaled['nei_final_simple']=df['nei_final_simple']"
   ]
  },
  {
   "cell_type": "markdown",
   "id": "d0f746d1-4507-4d79-9985-04a25c422eef",
   "metadata": {},
   "source": [
    "## Adding Labels from the 1935-1940 HOLC Grading\n",
    "Several neighborhoods did not exist or were not graded in the 1930s.  These were Dunes, Campus District, Normanskill,Bishop's Gate, Downtown, Central Avenue, Center Square, and Manning Blvd: those Manning Blvd may be the Lancaster neighborhood by another name. While these were not graded, I will attempt to find an accurate classifier for HOLC grades from the contemporary data and then use the available data to predict an '1930s HOLC Grade' for each.\n",
    "\n",
    "HOLC Grade Numerization A = 0, B = 1, C = 2, D = 3, Not Graded/Didn't Exist in 1930s = 4. \n",
    "\n",
    "Some neighborhoods are not subsets of the 1930s neighborhoods.  In these cases, the average HOLC grade is given unless the average is not a whole number.  In this case, the decimal is truncated for the label.  \n",
    "* Modern Pine Hills was roughly half B and half C. (avg is 1.5, labelled 1)\n",
    "* Modern Lancaster was roughly half A and half B. (Not listed in Census Data)\n",
    "* Modern Deleware Ave is 1/3 A, B, and C. (avg is 1, labelled 1)\n",
    "* Modern 2nd Ave was roughly half C and D. (avg is 2.5, labelled 2)\n",
    "\n",
    "Eagle Hill (C, index 9) and Pastures (D, index 19) gradings "
   ]
  },
  {
   "cell_type": "code",
   "execution_count": 5,
   "id": "5dd44466-7777-4949-8989-e9bef220b7bc",
   "metadata": {},
   "outputs": [],
   "source": [
    "# Labels WITH Eagle Hill and Pastures included.\n",
    "#df.loc[:,'holc_grade'] = pd.Series(np.array([3,1,4,0,4,4,1,4,4,2,1,3,4,3,0,1,4,2,2,3,1,2,3,3,0,3,3,0]),index=df.index)\n",
    "# Labels WITHOUT Eagle Hill and Pastures included.\n",
    "df.loc[:,'holc_grade'] = pd.Series(np.array([3,1,4,0,4,4,1,4,4,1,3,4,3,0,1,4,2,2,1,2,3,3,0,3,3,0]),index=df.index)\n",
    "dfScaled.loc[:,'holc_grade'] = pd.Series(np.array([3,1,4,0,4,4,1,4,4,1,3,4,3,0,1,4,2,2,1,2,3,3,0,3,3,0]),index=dfScaled.index)"
   ]
  },
  {
   "cell_type": "markdown",
   "id": "7f9e9eef-704a-4b6d-8163-028b19880536",
   "metadata": {},
   "source": [
    "## Free Food Fridge Locations and Neighborhoods in Albany\n",
    "These are listed as FRIDGE NAME Address (Neighborhood(s) - HOLC Grade(s))\n",
    "* THE FREE SCHOOL 8 Elm Street, Albany, NY (Mansion District - D)\n",
    "* IN OUR OWN VOICES 245 Lark St, Albany, NY (Center Square - Not Graded)\n",
    "* ALBANY CENTER GALLERY 488 Broadway, Albany NY (Downtown - Not Graded)\n",
    "* RADIX ECOLOGICAL SUSTAINABILITY CENTER 153 Grand Street, Albany NY (Mansion District - D)\n",
    "* ALBANY BARN 56 2nd Street, Albany, NY (Arbor Hill - D)\n",
    "* BOYS AND GIRLS CLUB OF THE GREATER CAPITAL REGION 21 Delware Ave, Albany (On border of Park South and Hudson - C & D)\n",
    "\n",
    "It's interesting to see where these are.  They're almost entirely in neighborhoods rated 'D' by the HOLC or in neighborhoods which were not graded. I'm very curious to see if an accurate HOLC grade classifier would grade these ungraded neighborhoods with free food fridges as C or D."
   ]
  },
  {
   "cell_type": "markdown",
   "id": "c339d33e-ff09-4e8f-98bb-0a6d8b7599ad",
   "metadata": {},
   "source": [
    "## Adding Fridge Count to Dataframe\n",
    "We will add a 'fridge count' column to encode the number of free food fridges in our neighborhoods. While the Deleware Ave is right on the boundary of Park South and Hudson, it is technically in Park South.  Though, in any analysis it might be wise to remember that it might be included in either (or in both)."
   ]
  },
  {
   "cell_type": "code",
   "execution_count": 6,
   "id": "89bc77a4-db8b-44a9-a393-828ea4e79747",
   "metadata": {},
   "outputs": [],
   "source": [
    "# Labels WITH Eagle Hill and Pastures included.\n",
    "#df.loc[:,'fridge_count'] = pd.Series(np.array([1,0,0,0,1,0,0,1,0,0,0,0,0,2,0,0,0,0,1,0,0,0,0,0,0,0,0,0,]),index=df.index)\n",
    "# Labels WITHOUT Eagle Hill and Pastures included.\n",
    "df.loc[:,'fridge_count'] = pd.Series(np.array([1,0,0,0,1,0,0,1,0,0,0,0,1,0,0,0,0,1,0,0,0,0,0,0,0,0]),index=df.index)\n",
    "dfScaled.loc[:,'fridge_count'] = pd.Series(np.array([1,0,0,0,1,0,0,1,0,0,0,0,1,0,0,0,0,1,0,0,0,0,0,0,0,0]),index=dfScaled.index)"
   ]
  },
  {
   "cell_type": "markdown",
   "id": "a06c6e79-c203-40d9-a532-14807f867a32",
   "metadata": {},
   "source": [
    "## Inspecting Features for Possible Classifiers\n",
    "\n",
    "Just something of note, these pairplots took about 15 minutes to produce on my laptop (8 Core AMD Ryzen 7 5700U at 4GHz w/ 16 GB 3200MHz RAM).  The RAM was never saturated, so disk swapping never occured.  Additionally, it looks as though Seaborn does not parallelize the plotting as only one of my cores was ever used heavily (~100%).  Hence, the images have been saved and are viewed by loading the images with IPython."
   ]
  },
  {
   "cell_type": "code",
   "execution_count": 7,
   "id": "5060148c-c053-482f-8b1c-f5737efef686",
   "metadata": {},
   "outputs": [],
   "source": [
    "from IPython.display import Image\n",
    "import seaborn as sns"
   ]
  },
  {
   "cell_type": "code",
   "execution_count": 8,
   "id": "c01dec90-c862-4f16-822b-8858b55ea4de",
   "metadata": {
    "tags": []
   },
   "outputs": [],
   "source": [
    "#Code to generate the pairplot.  If the image is not locally stored, run this code instead of loading the image.\n",
    "#sns_plot = sns.pairplot(df[['walk_score','transit_score','bike_score','population',\n",
    "#           'population_density','household_income','marital_status_married','marital_status_separated_divorce',\n",
    "#           'marital_status_widowed','marital_status_never_married','white_popl',\n",
    "#            'hispanic_popl','black_popl','asian_popl','mixed_popl','other_popl','food_stamps_total',\n",
    "#            'educational_attainment_no_hs','educational_attainment_bachelors','educational_attainment_very_advanced_degrees',\n",
    "#            'household_type_married_count', 'household_type_single_female_count',\n",
    "#            'household_type_single_male_count','household_type_one_person_count',\n",
    "#            'household_type_other_non_family_count','household_type_with_children','Age_0_to_17','Age_18_to_21',\n",
    "#            'Age_22_to_29','Age_30_to_39','Age_40_to_49','Age_50_to_59','Age_60_to_69','Age_70_to_79','Age_80_older','holc_grade']],hue='holc_grade',diag_kind='kde')\n",
    "#sns_plot.savefig(\"pairplot.png\")\n",
    "#Image(\"pairplot.png\")"
   ]
  },
  {
   "cell_type": "code",
   "execution_count": 9,
   "id": "49a4529f-8d7b-4a52-b48b-c5a330bfb41f",
   "metadata": {
    "tags": []
   },
   "outputs": [],
   "source": [
    "#Code to generate the pairplot.  If the image is not locally stored, run this code instead of loading the image.\n",
    "#sns_plot_FCt = sns.pairplot(df[['walk_score','transit_score','bike_score','population',\n",
    "#           'population_density','household_income','marital_status_married','marital_status_separated_divorce',\n",
    "#           'marital_status_widowed','marital_status_never_married','white_popl',\n",
    "#            'hispanic_popl','black_popl','asian_popl','mixed_popl','other_popl','food_stamps_total',\n",
    "#            'educational_attainment_no_hs','educational_attainment_bachelors','educational_attainment_very_advanced_degrees',\n",
    "#            'household_type_married_count', 'household_type_single_female_count',\n",
    "#            'household_type_single_male_count','household_type_one_person_count',\n",
    "#            'household_type_other_non_family_count','household_type_with_children','Age_0_to_17','Age_18_to_21',\n",
    "#            'Age_22_to_29','Age_30_to_39','Age_40_to_49','Age_50_to_59','Age_60_to_69','Age_70_to_79','Age_80_older','fridge_count']],hue='fridge_count',diag_kind='kde')\n",
    "#sns_plot_FCt.savefig(\"pairplot_FCt.png\")\n",
    "\n",
    "#Image(\"pairplot_FCt.png\")"
   ]
  },
  {
   "cell_type": "code",
   "execution_count": 10,
   "id": "03cffbc3-8eb8-4818-bc3b-17b920e476bf",
   "metadata": {},
   "outputs": [],
   "source": [
    "# An inspection of the correlations between the features\n",
    "#df[['transit_score','bike_score','household_income','marital_status_married','marital_status_widowed','Age_80_older','household_type_married_count','fridge_count']].corr()"
   ]
  },
  {
   "cell_type": "markdown",
   "id": "11d7f3f9-92cd-48fa-a0c8-787340922059",
   "metadata": {},
   "source": [
    "Possible features for HOLC Grade Classification\n",
    "* +Correlation: 'other_popl' (0.269),\n",
    "* -Correlation: 'asian_popl' (-.274), household_type_married_count (-.309), marital_status_married (-.289), marital_status_separated_divorce (-.267), Age_40_to_49 (-.388), Age_60_to_69 (-.267), Age_70_to_79 (-.331)\n",
    "\n",
    "Possible features for Fridge Location Classification\n",
    "* +Correlation: transit_score (.257), bike_score (.298)\n",
    "* -Correlation: household_income (-.278), marital_status_married (-.253), marital_status_widowed (-.325), Age_70_to_79 (-.278), Age_80_older (-.252), household_type_married_count (-.270), "
   ]
  },
  {
   "cell_type": "code",
   "execution_count": 11,
   "id": "82bdf6a7-36f9-405a-aedd-00678c1f8066",
   "metadata": {},
   "outputs": [],
   "source": [
    "#'marital_status_separated_divorce' is causing issues...\n",
    "#sns_plot_NegCorr = sns.pairplot(df[['asian_popl','household_type_married_count','marital_status_married','marital_status_separated_divorce','Age_40_to_49','Age_60_to_69','Age_70_to_79','holc_grade']],hue='holc_grade',diag_kind='kde')\n",
    "#sns_plot_NegCorr.savefig(\"pairplot_NegCorr.png\")\n",
    "#Image(\"pairplot_NegCorr.png\")"
   ]
  },
  {
   "cell_type": "code",
   "execution_count": 12,
   "id": "0c0ece78-f592-4e6a-9d7d-0ab5900355c9",
   "metadata": {},
   "outputs": [],
   "source": [
    "#sns_plot_FCt_NegCorr = sns.pairplot(df[['household_income','marital_status_married',\n",
    "#           'marital_status_widowed','Age_70_to_79','Age_80_older','household_type_married_count','fridge_count']],hue='fridge_count',diag_kind='kde')\n",
    "#sns_plot_FCt_NegCorr.savefig(\"pairplot_FCt_NegCorr.png\")\n",
    "#Image(\"pairplot_FCt_NegCorr.png\")"
   ]
  },
  {
   "cell_type": "markdown",
   "id": "70300806-b4b5-4d87-817c-b14d9748cb97",
   "metadata": {},
   "source": [
    "## Discussion on Train and Test Split of Data for Classifiers\n",
    "\n",
    "### HOLC Train and Test\n",
    "For these data we can only select neighborhoods which have been graded.  I.e. we need to select only neighborhoods without a '4' in their holc grade column. This leaves us with only 19 samples.\n",
    "\n",
    "### A Single Free Food Fridge Train and Test Accuracy Check\n",
    "All the data are available for this train and test split.  This gives us 26 samples."
   ]
  },
  {
   "cell_type": "code",
   "execution_count": 13,
   "id": "ad6844ff-7f67-46c9-a9b6-3eed4117f77f",
   "metadata": {},
   "outputs": [],
   "source": [
    "# A data frame of HOLC graded neighborhoods.\n",
    "dfGraded = df[df['holc_grade']<4]"
   ]
  },
  {
   "cell_type": "code",
   "execution_count": 14,
   "id": "5f689e74-38d9-445c-9698-3922762de76d",
   "metadata": {},
   "outputs": [
    {
     "data": {
      "text/plain": [
       "[{'transit_score': [0.833, 0.833, 0.833, 0.833]},\n",
       " {'bike_score': [0.833, 0.833, 0.833, 0.833]},\n",
       " {'household_income': [0.833, 0.667, 0.667, 0.833]},\n",
       " {'marital_status_widowed': [0.667, 0.833, 0.667, 0.667]},\n",
       " {'Age_80_older': [0.833, 0.833, 1.0, 0.833]},\n",
       " {'household_type_married_count': [0.5, 0.667, 0.667, 0.833]}]"
      ]
     },
     "execution_count": 14,
     "metadata": {},
     "output_type": "execute_result"
    }
   ],
   "source": [
    "trainFood, testFood = train_test_split(df, test_size = 0.2,random_state = 0)\n",
    "foodNegCorrFeatures = ['transit_score','bike_score','household_income','marital_status_widowed','Age_80_older','household_type_married_count']\n",
    "\n",
    "# A quick check to see if any single feature classifies the fridge_count labels or not.  The answer is, no.  \n",
    "predictions = []\n",
    "for key in foodNegCorrFeatures:\n",
    "    accuracylist = []\n",
    "    for i in range(1,5):\n",
    "        neighFridge = KNeighborsClassifier(n_neighbors = i)\n",
    "        neighFridge.fit(np.array(trainFood[key]).reshape(-1,1), trainFood['fridge_count'])\n",
    "        pred = neighFridge.predict(np.array(testFood[key]).reshape(-1,1))\n",
    "        accuracy = round(sum([1 for i in range(len(pred)) if pred[i] == np.array(testFood['fridge_count'])[i]])/len(pred),3)\n",
    "        accuracylist.append(accuracy)\n",
    "    predictions.append({key:accuracylist})\n",
    "predictions"
   ]
  },
  {
   "cell_type": "code",
   "execution_count": 15,
   "id": "c7187921-a91a-45fa-ad17-cdae1acba968",
   "metadata": {},
   "outputs": [
    {
     "data": {
      "text/plain": [
       "[0.833, 0.667, 0.667, 0.833]"
      ]
     },
     "execution_count": 15,
     "metadata": {},
     "output_type": "execute_result"
    }
   ],
   "source": [
    "trainFood, testFood = train_test_split(df, test_size = 0.2,random_state = 0)\n",
    "# How about all of the features...\n",
    "accuracylist = []\n",
    "for i in range(1,5):\n",
    "    neighFridge = KNeighborsClassifier(n_neighbors = i)\n",
    "    neighFridge.fit(trainFood[foodNegCorrFeatures], trainFood['fridge_count'])\n",
    "    pred = neighFridge.predict(testFood[foodNegCorrFeatures])\n",
    "    accuracy = round(sum([1 for i in range(len(pred)) if pred[i] == np.array(testFood['fridge_count'])[i]])/len(pred),3)\n",
    "    accuracylist.append(accuracy)\n",
    "accuracylist"
   ]
  },
  {
   "cell_type": "markdown",
   "id": "db6762c5-69d6-4c9b-aa79-d407ad5ca8fc",
   "metadata": {},
   "source": [
    "## Simulating KNN and Optimizing Parameters\n",
    "In order to get a good idea of which features are best for classifying the free food fridge locations, the following code removes the variety produced by either selecting 'random_state = 0' or by letting any state be chosen at random.  These methods instead run $N$ trials of KNN with randomly reselected train-test splits for each trial and returns average accuracies for a given range of k (k_min to k_max).  Passing these accuracies into the central limit theorem allows us to make statements about confidence intervals for the average accuracies. (i.e. Is our KNN classifier more/less accurate than a naive guess?)\n",
    "\n",
    "\n",
    "- Fixing the feature list and k_max values and varying the train-test split can help pick an optimal split.\n",
    "- Fixing the train-test split and k_max values and varying the feature list can help pick optimal features.\n",
    "- Running all variations over some range of k_max can help select the optimal k value.\n",
    "- With 21 neighborhoods without fridges and 5 with, a lazy \"always no fridge\" classification would score an accuracy of 21/26 = 0.80769\n",
    " "
   ]
  },
  {
   "cell_type": "code",
   "execution_count": 16,
   "id": "f92f7915-a049-4007-b9c1-b8ff6533a0d5",
   "metadata": {},
   "outputs": [],
   "source": [
    "def getAccuracy(features, trainData, testData,k_max = 5,label = 'fridge_count',k_min = 1):\n",
    "    '''Given a list of features from a train-test split from a data frame\n",
    "    this method returns the classification accuracy of a KNN method for \n",
    "    all values of k up to k_max.  Assumes features is a list of column\n",
    "    names from the data frame from which trainData and testData were \n",
    "    contrived.  trainData and testData must have a column titled \"fridge_count\"\n",
    "    or a given label must be supplied for target labels.'''\n",
    "    accuracylist = []\n",
    "    for i in range(k_min,k_max):\n",
    "        neighFridge = KNeighborsClassifier(n_neighbors = i)\n",
    "        neighFridge.fit(trainData[features], trainData[label])\n",
    "        pred = neighFridge.predict(testData[features])\n",
    "        accuracy = round(sum([1 for i in range(len(pred)) if pred[i] == np.array(testData[label])[i]])/len(pred),3)\n",
    "        accuracylist.append(accuracy)\n",
    "    return np.array(accuracylist)\n",
    "\n",
    "def getAvgAccuracyNTrials(features,data,trials = 100,split_size = 0.2,k_max = 5,label = 'fridge_count',k_min=1):\n",
    "    '''Given a list of features, a data frame, a size of train-test split (0,1),\n",
    "    and a k_max value, this method runs trials of knn and returns an average\n",
    "    accuracy list for all values of k from 1 to k_max.'''\n",
    "    accuracyList = []\n",
    "    for i in range(trials):\n",
    "        trainFood, testFood = train_test_split(data, test_size = split_size)\n",
    "        accuracyList.append(getAccuracy(features,trainFood,testFood,k_max,label,k_min))\n",
    "    avgArray = np.zeros(len(accuracyList[0]))\n",
    "    for array in accuracyList:\n",
    "        avgArray = avgArray + array\n",
    "    return avgArray/trials\n",
    "\n",
    "def getClassResults(features,data,trials = 100,split_size = 0.2, k= 1, label = 'fridge_count'):\n",
    "    '''Given a list of features, a data frame, a size of train-test split (0,1),\n",
    "    and a k value, this returns essentially a confusion matrix.'''\n",
    "    # guess is correct, truth of neighborhood having fridge\n",
    "    correctHasFridge = 0\n",
    "    incorrectNoFridge = 0\n",
    "    correctNoFridge = 0\n",
    "    incorrectHasFridge = 0\n",
    "    for i in range(trials):\n",
    "        trainFood, testFood = train_test_split(data, test_size = split_size)\n",
    "        neighFridge = KNeighborsClassifier(n_neighbors = k)\n",
    "        neighFridge.fit(trainFood[features], trainFood[label])\n",
    "        pred = neighFridge.predict(testFood[features])\n",
    "        for j in range(len(pred)):\n",
    "            if pred[j] == 1:\n",
    "                if pred[j] == np.array(testFood[label])[j]:\n",
    "                    correctHasFridge = correctHasFridge + 1\n",
    "                else: \n",
    "                    incorrectNoFridge = incorrectNoFridge + 1\n",
    "            else:\n",
    "                if pred[j] == np.array(testFood[label])[j]:\n",
    "                    correctNoFridge = correctNoFridge + 1\n",
    "                else:\n",
    "                    incorrectHasFridge = incorrectHasFridge + 1            \n",
    "        \n",
    "    return np.array([[correctHasFridge,incorrectNoFridge],[incorrectHasFridge,correctNoFridge]])\n",
    "\n",
    "def getCI(p,N,z=1.96):\n",
    "    '''A method for determining the confindence interval (CI) for a given accuracy value p.\n",
    "    When an accuracy of p* has been found after running N simulations, we wish to know the CI \n",
    "    to determine if p* is statistically significant, or if it was caused by variations within \n",
    "    our resampling. N is the number of times you have rerun your simulations.  p is the average\n",
    "    accuracy of your simulations.  z is the t-value with N-1 DF or the z-value for sufficiently high\n",
    "    DFs.  i.e. for very large samples you can use z = 1.96 for a 95% CI.'''\n",
    "    interval = z*(np.sqrt(p*(1-p)/N))\n",
    "    return np.array([p-interval,p+interval])"
   ]
  },
  {
   "cell_type": "code",
   "execution_count": 17,
   "id": "d5af7fcd-6264-4109-9479-534bbb231ab2",
   "metadata": {},
   "outputs": [
    {
     "name": "stdout",
     "output_type": "stream",
     "text": [
      "Confusion Matrix\n",
      "[[ 35   7]\n",
      " [ 72 486]]\n"
     ]
    }
   ],
   "source": [
    "print(\"Confusion Matrix\")\n",
    "print(getClassResults(['bike_score','population_density','household_income'],dfScaled,trials = 100,k= 3))"
   ]
  },
  {
   "cell_type": "markdown",
   "id": "b4c7b268-24d5-427c-bfaf-713854868df3",
   "metadata": {},
   "source": [
    "### Passing Class Results Into Heat Maps for Confusion Matrices\n"
   ]
  },
  {
   "cell_type": "code",
   "execution_count": 19,
   "id": "575ca801-848c-4c2f-a2b8-fbb70b92340e",
   "metadata": {},
   "outputs": [
    {
     "data": {
      "image/png": "[encoded data removed]",
      "text/plain": [
       "<Figure size 864x576 with 8 Axes>"
      ]
     },
     "metadata": {
      "needs_background": "light"
     },
     "output_type": "display_data"
    }
   ],
   "source": [
    "cm0 = pd.DataFrame(getClassResults(['bike_score','population_density','household_income'],\n",
    "                    dfScaled,trials = 100,k= 3), ['Has Fridge','No Fridge'] ,['Has Fridge','No Fridge'])\n",
    "cm1 = pd.DataFrame(getClassResults(['walk_score','other_popl','educational_attainment_very_advanced_degrees'],\n",
    "                    dfScaled,trials = 100,k= 2),['Has Fridge','No Fridge'] ,['Has Fridge','No Fridge'])\n",
    "cm2 = pd.DataFrame(getClassResults(['population','marital_status_widowed','Age_18_to_21'],\n",
    "                    dfScaled,trials = 100,k= 1),['Has Fridge','No Fridge'] ,['Has Fridge','No Fridge'])\n",
    "cm3 = pd.DataFrame(getClassResults(['bike_score','population_density','household_income'],\n",
    "                    dfScaled,trials = 100,k= 4),['Has Fridge','No Fridge'] ,['Has Fridge','No Fridge'])\n",
    "\n",
    "fig, ((ax0, ax1), (ax2, ax3)) = plt.subplots(2,2,figsize = (12,8))\n",
    "sns.heatmap(cm0, annot=True,cmap='Blues', fmt='d',ax=ax0) \n",
    "ax0.set_title(\"Walk, Other Pop, & Adv Deg Confusion Matrix\")\n",
    "\n",
    "sns.heatmap(cm1, annot=True,cmap='Blues', fmt='d',ax=ax1) \n",
    "ax1.set_title(\"Pop, Widow, & 18-21 Confusion Matrix\")\n",
    "\n",
    "sns.heatmap(cm2, annot=True,cmap='Blues', fmt='d',ax=ax2) \n",
    "ax2.set_title(\"Bike, Pop Den, & Income (k=4) Confusion Matrix\")\n",
    "\n",
    "sns.heatmap(cm3, annot=True,cmap='Blues', fmt='d',ax=ax3) \n",
    "ax3.set_title(\"Bike, Pop Den, & Income (k=3) Confusion Matrix\")\n",
    "\n",
    "plt.show()"
   ]
  },
  {
   "cell_type": "markdown",
   "id": "a2a19a78-8c6a-4556-8af8-de6504fc6ecb",
   "metadata": {},
   "source": [
    "### Simulating KNN for K=1,...,7 on All Features, 10000 Trials\n",
    "- getAvgAccuracyNTrials(featurelist, dfScaled,trials = 10000,k_max = 8) yields:\n",
    "-[0.7466684, 0.8001966, 0.77983  , 0.787979 , 0.7866636, 0.8066917,0.8066583]\n",
    "\n",
    "No accuracy has a confidence interval of significance which suggests these features are more accurate classifiers than naively guessing 'no fridge in this neighborhood' for all neighborhoods."
   ]
  },
  {
   "cell_type": "code",
   "execution_count": 20,
   "id": "c029743a-55f6-4d67-9dd6-f0c59be5bce2",
   "metadata": {},
   "outputs": [
    {
     "data": {
      "text/plain": [
       "array([0.8299 , 0.78161, 0.73336, 0.80491, 0.77159])"
      ]
     },
     "execution_count": 20,
     "metadata": {},
     "output_type": "execute_result"
    }
   ],
   "source": [
    "getAvgAccuracyNTrials(['marital_status_widowed'], dfScaled,trials = 100,k_max = 6)"
   ]
  },
  {
   "cell_type": "markdown",
   "id": "c7551062-2025-4f04-a2b2-060164142e63",
   "metadata": {},
   "source": [
    "### Simulating KNN for K=1,...,7 on Negatively Correlated Features, 10000 Trials\n",
    "- getAvgAccuracyNTrials(foodNegCorrFeatures, dfScaled,trials = 10000,k_max = 8) yields:\n",
    "-[0.7281158, 0.7986387, 0.7375997, 0.8062174, 0.7935102, 0.8040666,0.7880569]\n",
    "\n",
    "No accuracy has a confidence level which suggests these features are more accurate classifiers than naively guessing 'no fridge in this neighborhood' for all neighborhoods."
   ]
  },
  {
   "cell_type": "code",
   "execution_count": 21,
   "id": "13b28ee6-706f-4281-b352-ee8db2364d43",
   "metadata": {},
   "outputs": [
    {
     "data": {
      "text/plain": [
       "array([0.71171, 0.77997, 0.72004, 0.7833 , 0.77498, 0.78496, 0.76664])"
      ]
     },
     "execution_count": 21,
     "metadata": {},
     "output_type": "execute_result"
    }
   ],
   "source": [
    "foodNegCorrFeatures = ['transit_score','bike_score','household_income','marital_status_widowed','Age_80_older','household_type_married_count']\n",
    "getAvgAccuracyNTrials(foodNegCorrFeatures, dfScaled,trials = 100,k_max = 8)"
   ]
  },
  {
   "cell_type": "markdown",
   "id": "f4e8d46c-92e5-4a9f-bd41-dc507bbe3d66",
   "metadata": {},
   "source": [
    "# Single Feature Classifier Accuracies"
   ]
  },
  {
   "cell_type": "code",
   "execution_count": 22,
   "id": "2efa0b98-e740-44f8-b7a1-be83a2fd6b99",
   "metadata": {},
   "outputs": [
    {
     "name": "stdout",
     "output_type": "stream",
     "text": [
      "Feature: walk_score Accuracy (k = index+1): [0.65336 0.75493 0.71168 0.79325 0.79325 0.79325 0.79325]\n",
      "Feature: transit_score Accuracy (k = index+1): [0.6167  0.78829 0.73164 0.79495 0.78496 0.79828 0.79828]\n",
      "Feature: bike_score Accuracy (k = index+1): [0.73001 0.78996 0.74833 0.79663 0.79663 0.79663 0.79663]\n",
      "Feature: population Accuracy (k = index+1): [0.69837 0.77492 0.74663 0.80324 0.80324 0.80324 0.80324]\n",
      "Feature: population_density Accuracy (k = index+1): [0.67841 0.76167 0.69173 0.80829 0.80829 0.80829 0.80829]\n",
      "Feature: household_income Accuracy (k = index+1): [0.66004 0.74998 0.75162 0.78659 0.78659 0.81158 0.81158]\n",
      "Feature: marital_status_married Accuracy (k = index+1): [0.61173 0.75001 0.68176 0.78663 0.75499 0.79828 0.79828]\n",
      "Feature: marital_status_separated_divorce Accuracy (k = index+1): [0.65006 0.7716  0.71331 0.80661 0.7666  0.82327 0.82327]\n",
      "Feature: marital_status_widowed Accuracy (k = index+1): [0.80157 0.76665 0.73333 0.79826 0.77493 0.79993 0.78325]\n",
      "Feature: marital_status_never_married Accuracy (k = index+1): [0.61669 0.78664 0.77997 0.80496 0.80162 0.80496 0.80496]\n",
      "Feature: white_popl Accuracy (k = index+1): [0.75662 0.7866  0.75994 0.76001 0.70004 0.755   0.74332]\n",
      "Feature: hispanic_popl Accuracy (k = index+1): [0.57837 0.77994 0.74329 0.82324 0.81658 0.82491 0.82491]\n",
      "Feature: black_popl Accuracy (k = index+1): [0.61337 0.79496 0.79496 0.79496 0.78995 0.79496 0.79496]\n",
      "Feature: asian_popl Accuracy (k = index+1): [0.72833 0.77665 0.73501 0.79665 0.79166 0.81664 0.80998]\n",
      "Feature: mixed_popl Accuracy (k = index+1): [0.68831 0.77664 0.69837 0.80994 0.78998 0.82329 0.82329]\n",
      "Feature: other_popl Accuracy (k = index+1): [0.70331 0.80826 0.76664 0.81659 0.8016  0.81659 0.80826]\n",
      "Feature: food_stamps_total Accuracy (k = index+1): [0.6567  0.80827 0.75829 0.78494 0.76995 0.81493 0.81493]\n",
      "Feature: educational_attainment_no_hs Accuracy (k = index+1): [0.76332 0.79823 0.8233  0.7666  0.71996 0.79827 0.78326]\n",
      "Feature: educational_attainment_bachelors Accuracy (k = index+1): [0.59506 0.78662 0.74164 0.80495 0.76998 0.81494 0.80827]\n",
      "Feature: educational_attainment_very_advanced_degrees Accuracy (k = index+1): [0.69165 0.75831 0.68172 0.78831 0.78831 0.78831 0.78831]\n",
      "Feature: household_type_married_count Accuracy (k = index+1): [0.57008 0.76497 0.71505 0.78163 0.76331 0.79496 0.79496]\n",
      "Feature: household_type_single_female_count Accuracy (k = index+1): [0.49499 0.74497 0.69001 0.79827 0.79827 0.79827 0.79827]\n",
      "Feature: household_type_single_male_count Accuracy (k = index+1): [0.68337 0.7733  0.77165 0.77329 0.75662 0.80326 0.80326]\n",
      "Feature: household_type_one_person_count Accuracy (k = index+1): [0.64166 0.78997 0.74333 0.8116  0.8116  0.8116  0.8116 ]\n",
      "Feature: household_type_other_non_family_count Accuracy (k = index+1): [0.55832 0.81158 0.75494 0.82823 0.81158 0.82823 0.82823]\n",
      "Feature: household_type_with_children Accuracy (k = index+1): [0.78663 0.82488 0.81823 0.82488 0.82488 0.82488 0.82488]\n",
      "Feature: Age_0_to_17 Accuracy (k = index+1): [0.75159 0.79993 0.77996 0.80326 0.79659 0.80326 0.80326]\n",
      "Feature: Age_18_to_21 Accuracy (k = index+1): [0.59502 0.80996 0.74999 0.81496 0.81329 0.81496 0.81496]\n",
      "Feature: Age_22_to_29 Accuracy (k = index+1): [0.71829 0.77991 0.71668 0.8016  0.7716  0.80659 0.80659]\n",
      "Feature: Age_30_to_39 Accuracy (k = index+1): [0.64335 0.72505 0.7034  0.77999 0.77832 0.77999 0.77999]\n",
      "Feature: Age_40_to_49 Accuracy (k = index+1): [0.64836 0.74831 0.68499 0.79332 0.78665 0.79332 0.79165]\n",
      "Feature: Age_50_to_59 Accuracy (k = index+1): [0.65337 0.80491 0.78326 0.80491 0.80158 0.80491 0.80491]\n",
      "Feature: Age_60_to_69 Accuracy (k = index+1): [0.71001 0.77827 0.75661 0.80661 0.80661 0.80661 0.80661]\n",
      "Feature: Age_70_to_79 Accuracy (k = index+1): [0.63004 0.76993 0.71836 0.80158 0.80158 0.80158 0.80158]\n",
      "Feature: Age_80_older Accuracy (k = index+1): [0.73003 0.78999 0.75166 0.81827 0.76663 0.8416  0.82327]\n"
     ]
    }
   ],
   "source": [
    "for feature in featurelist:\n",
    "    print(\"Feature: \"+feature+\" Accuracy (k = index+1): \" + str(getAvgAccuracyNTrials([feature],dfScaled,trials=100,k_max=8)))"
   ]
  },
  {
   "cell_type": "markdown",
   "id": "5429af9f-9a31-4b12-a3cb-092ac6f51fe9",
   "metadata": {},
   "source": [
    "## Computing Confidence Intervals for a given list of Accuracies from a list of Features"
   ]
  },
  {
   "cell_type": "code",
   "execution_count": 23,
   "id": "ecb40d86-a472-4bd6-a316-465966da55f2",
   "metadata": {},
   "outputs": [
    {
     "name": "stdout",
     "output_type": "stream",
     "text": [
      "Feature: marital_status_widowed Accuracy (k = index+1): [0.82158 0.77996 0.72665 0.81659 0.77161 0.80824 0.78494]\n",
      "CI: [array([0.74500682, 0.89815318]), array([0.69710533, 0.86281467]), array([0.6375142, 0.8157858]), array([0.73918954, 0.89399046]), array([0.68765096, 0.85556904]), array([0.72950294, 0.88697706]), array([0.70276721, 0.86711279])]\n"
     ]
    }
   ],
   "source": [
    "trils = 100\n",
    "cLevel = 2\n",
    "possFeatures =['marital_status_widowed']\n",
    "\n",
    "for feature in possFeatures:\n",
    "    accuracies = getAvgAccuracyNTrials([feature],df,trials=trils,k_max=8)\n",
    "    print(\"Feature: \"+feature+\" Accuracy (k = index+1): \" + str(accuracies))\n",
    "    print(\"CI: \"+str([getCI(accuracy,trils,cLevel) for accuracy in accuracies]))"
   ]
  },
  {
   "cell_type": "markdown",
   "id": "d747c902-6ece-4250-8ae5-852d1ec3d75f",
   "metadata": {},
   "source": [
    "## Checking various split sizes for improvements to accuracy"
   ]
  },
  {
   "cell_type": "code",
   "execution_count": 24,
   "id": "148fc31c-f2ef-4def-b9c5-9140ea0b11d8",
   "metadata": {
    "tags": []
   },
   "outputs": [
    {
     "name": "stdout",
     "output_type": "stream",
     "text": [
      "Split size: 0.05[0.685 0.75  0.74  0.785 0.785 0.815 0.815]\n",
      "Split size: 0.1[0.6434  0.71344 0.71344 0.75346 0.75346 0.77346 0.77346]\n",
      "Split size: 0.15[0.6925 0.7625 0.7775 0.7975 0.7975 0.815  0.815 ]\n",
      "Split size: 0.2[0.65667 0.75665 0.74497 0.79998 0.79998 0.81164 0.81164]\n",
      "Split size: 0.25[0.67834 0.7469  0.74119 0.78122 0.78122 0.79409 0.79409]\n",
      "Split size: 0.3[0.71    0.7625  0.75125 0.8     0.8     0.81625 0.81625]\n",
      "Split size: 0.35[0.67  0.732 0.73  0.771 0.769 0.783 0.776]\n",
      "Split size: 0.4[0.69066 0.76068 0.74067 0.80344 0.79889 0.81254 0.80435]\n",
      "Split size: 0.45[0.69918 0.76827 0.7441  0.79242 0.78825 0.79493 0.78825]\n",
      "Split size: 0.5[0.70436 0.77593 0.76284 0.80442 0.80057 0.8075  0.80365]\n",
      "Split size: 0.55[0.71063 0.78195 0.76462 0.81401 0.80266 0.81399 0.80666]\n",
      "Split size: 0.6[0.7075  0.7742  0.75172 0.79798 0.78296 0.80735 0.79672]\n",
      "Split size: 0.65[0.68599 0.77495 0.74789 0.79023 0.78024 0.79669 0.78904]\n"
     ]
    }
   ],
   "source": [
    "for x in [i/20 for i in range(1,14)]:\n",
    "    print(\"Split size: \" + str(x) + str(getAvgAccuracyNTrials(foodNegCorrFeatures, df,trials = 100,split_size = x,k_max = 8)))"
   ]
  },
  {
   "cell_type": "markdown",
   "id": "c42a01f8-e06e-4d48-a792-7f723d54dbd8",
   "metadata": {},
   "source": [
    "## Confidence Interval for Hopeful Accuracy Values\n",
    "With random sampling from our data we obtain an accuracy after training and testing.  This process is redone $n$ times to give additional accuracies which are (independent? and) then used to find an average accuracy $a^*$.  From this process we can make a claim such as, We are 95% confident that the accuracy $a$ of our model is within the CI $a^*\\pm z \\sqrt{(a^*(1-a^*)/n)}$\" given some confidence level or z-value.\n",
    "\n",
    "After initial testing two features appeared to give accuracies higher than the lazy guess of 'always no fridge'.  They were 'educational_attainment_very_advanced_degrees' with $k \\geq 4$ and 'marital_status_widowed' with $k = 1$.  Resampling, training, and testing 10,000 times did not confirm the higher accuracies with the first feature (in fact it refuted them), but the latter accuracy was confirmed above a 99% confidence level with a two-tailed test.  Running the process again at 100,000 samples with $k = 1$ for the feature 'marital_status_widowed' gave an accuracy of $a=0.81919396$, which has a 99% confidence interval of $(0.81636347, 0.82202265)$.  "
   ]
  },
  {
   "cell_type": "code",
   "execution_count": 25,
   "id": "62e35538-6b84-42a2-960f-4757614f27c8",
   "metadata": {},
   "outputs": [
    {
     "data": {
      "text/plain": [
       "array([0.7833])"
      ]
     },
     "execution_count": 25,
     "metadata": {},
     "output_type": "execute_result"
    }
   ],
   "source": [
    "getAvgAccuracyNTrials(['marital_status_widowed'], dfScaled,trials = 10,k_max = 2)"
   ]
  },
  {
   "cell_type": "code",
   "execution_count": 26,
   "id": "f701ebba-0795-4c48-9fa8-81ad352c6c93",
   "metadata": {
    "tags": []
   },
   "outputs": [
    {
     "name": "stdout",
     "output_type": "stream",
     "text": [
      "walk_score, accuracies = [0.7    0.7333 0.7166 0.7499 0.7499 0.7499 0.7499]\n",
      "transit_score, accuracies = [0.8165 0.75   0.6835 0.7666 0.75   0.7832 0.7832]\n",
      "bike_score, accuracies = [0.6835 0.7666 0.7    0.8166 0.8    0.8166 0.8166]\n",
      "population, accuracies = [0.8499 0.8333 0.7999 0.8499 0.8499 0.8499 0.8499]\n",
      "population_density, accuracies = [0.6502 0.7501 0.6501 0.8167 0.7168 0.8167 0.8167]\n",
      "household_income, accuracies = [0.7    0.7666 0.7666 0.8166 0.7832 0.8333 0.8333]\n",
      "marital_status_married, accuracies = [0.6166 0.8166 0.7332 0.8499 0.8499 0.8499 0.8499]\n",
      "marital_status_separated_divorce, accuracies = [0.75   0.8666 0.8666 0.8499 0.8499 0.8499 0.8499]\n",
      "marital_status_never_married, accuracies = [0.7335 0.8167 0.7833 0.8333 0.8166 0.8333 0.8333]\n",
      "white_popl, accuracies = [0.7833 0.7832 0.6835 0.8165 0.8165 0.8666 0.8666]\n",
      "hispanic_popl, accuracies = [0.7    0.7666 0.7165 0.7666 0.6166 0.7666 0.7499]\n",
      "black_popl, accuracies = [0.65   0.7333 0.7333 0.7666 0.7666 0.7666 0.7666]\n",
      "asian_popl, accuracies = [0.6667 0.7668 0.7167 0.8    0.75   0.8167 0.8   ]\n",
      "mixed_popl, accuracies = [0.8165 0.7999 0.7666 0.7999 0.7999 0.7999 0.7999]\n",
      "other_popl, accuracies = [0.6001 0.7834 0.7001 0.8    0.7833 0.8167 0.7833]\n",
      "food_stamps_total, accuracies = [0.8332 0.8334 0.7667 0.8499 0.8499 0.9165 0.9165]\n",
      "educational_attainment_no_hs, accuracies = [0.7501 0.7833 0.65   0.7666 0.7332 0.7833 0.7499]\n",
      "educational_attainment_bachelors, accuracies = [0.6501 0.7501 0.6833 0.7999 0.7999 0.7999 0.7999]\n",
      "educational_attainment_very_advanced_degrees, accuracies = [0.7333 0.7832 0.75   0.7832 0.7832 0.7999 0.7999]\n",
      "household_type_married_count, accuracies = [0.6001 0.7166 0.7    0.7499 0.7499 0.7499 0.7499]\n",
      "household_type_single_female_count, accuracies = [0.8165 0.8831 0.8331 0.8831 0.8831 0.8831 0.8831]\n",
      "household_type_single_male_count, accuracies = [0.55   0.7499 0.7166 0.7833 0.7833 0.7833 0.7833]\n",
      "household_type_one_person_count, accuracies = [0.6667 0.8331 0.8165 0.8331 0.8331 0.8331 0.8331]\n",
      "household_type_other_non_family_count, accuracies = [0.7167 0.6832 0.6666 0.6999 0.6833 0.6999 0.6999]\n",
      "household_type_with_children, accuracies = [0.6166 0.8667 0.8501 0.8667 0.8667 0.8667 0.8667]\n",
      "Age_0_to_17, accuracies = [0.7    0.7998 0.7832 0.7998 0.7998 0.7998 0.7998]\n",
      "Age_18_to_21, accuracies = [0.8165 0.7333 0.7333 0.7666 0.7333 0.7499 0.7332]\n",
      "Age_22_to_29, accuracies = [0.8166 0.8832 0.8499 0.8999 0.8666 0.8999 0.8832]\n",
      "Age_30_to_39, accuracies = [0.7666 0.8167 0.7667 0.8499 0.8499 0.8499 0.8499]\n",
      "Age_40_to_49, accuracies = [0.7334 0.7998 0.6832 0.8165 0.7832 0.8165 0.7999]\n",
      "Age_50_to_59, accuracies = [0.75   0.7331 0.7164 0.7832 0.7832 0.7832 0.7832]\n",
      "Age_60_to_69, accuracies = [0.7498 0.8332 0.7665 0.8332 0.8332 0.8332 0.8332]\n",
      "Age_70_to_79, accuracies = [0.7501 0.7834 0.6668 0.7834 0.7834 0.8001 0.7668]\n",
      "Age_80_older, accuracies = [0.8999 0.75   0.6834 0.7499 0.7333 0.7666 0.7666]\n"
     ]
    }
   ],
   "source": [
    "# Run this for all pairs with widow feature.\n",
    "otherFeatures = [feature for feature in featurelist if feature != 'marital_status_widowed']\n",
    "for feature in otherFeatures:\n",
    "    print(feature+\", accuracies = \"+str(getAvgAccuracyNTrials([feature,'marital_status_widowed'],dfScaled,trials = 10,k_max = 8)))"
   ]
  },
  {
   "cell_type": "code",
   "execution_count": 41,
   "id": "366e54ef-8023-45c4-b86c-d1b7d4b3e365",
   "metadata": {},
   "outputs": [],
   "source": [
    "def SimAllPairs(df,featurelist,N,k):\n",
    "    '''An exhaustive search through all pairs of features\n",
    "    in the featurelist.  This takes on the order of days\n",
    "    with large enough N to detect significant classifiers.'''\n",
    "    data = []\n",
    "    for i in range(len(featurelist)-1):\n",
    "        for j in range(i+1,len(featurelist)):\n",
    "            features = [featurelist[i],featurelist[j]]\n",
    "            accuracies = getAvgAccuracyNTrials(features,df,trials = N,k_max =k)\n",
    "            data.append([features,accuracies])\n",
    "    return data\n",
    "\n",
    "def SimAllTriples(df,featurelist,N,k):\n",
    "    '''An exhaustive search through all triples of features\n",
    "    in the featurelist.  This takes on the order of weeks\n",
    "    with large enough N to detect significant classifiers.'''\n",
    "    data = []\n",
    "    for i in range(len(featurelist)-2):\n",
    "        for j in range(i+1,len(featurelist)-1):\n",
    "            for p in range(j+1,len(featurelist)):\n",
    "                features = [featurelist[i],featurelist[j],featurelist[p]]\n",
    "                accuracies = getAvgAccuracyNTrials(features,df,trials = N,k_max = k)\n",
    "                data.append([features,accuracies])\n",
    "    return data"
   ]
  },
  {
   "cell_type": "code",
   "execution_count": 42,
   "id": "416ac8fd-928e-4e9a-a66c-42946dc16aae",
   "metadata": {
    "tags": []
   },
   "outputs": [],
   "source": [
    "pairsData = SimAllPairs(dfScaled,featurelist,N=10,k=2) # Takes a minute or two with N = 10, but the data will be trash.\n",
    "triplesData = SimAllTriples(dfScaled,featurelist,N=10,k=2) # Takes a minute or two with N = 10, but the data will be trash."
   ]
  },
  {
   "cell_type": "code",
   "execution_count": 43,
   "id": "391e97cd-9eca-4f19-b584-417109f5fcb6",
   "metadata": {},
   "outputs": [
    {
     "name": "stdout",
     "output_type": "stream",
     "text": [
      "Number of Pairs:  595\n",
      "Number of Triples:  6545\n"
     ]
    }
   ],
   "source": [
    "print(\"Number of Pairs: \", str(len(pairsData)))\n",
    "print(\"Number of Triples: \", str(len(triplesData)))"
   ]
  },
  {
   "cell_type": "markdown",
   "id": "1392badf-f6b6-40fe-8d61-f2067ea049d2",
   "metadata": {},
   "source": [
    "## Discussion\n",
    "There are immediate questions from these results:\n",
    "1. Why does k-nearest neighbors perform so poorly?\n",
    "- I would expect similar feature characteristics from neighborhoods containing fridges, but these results suggest that they are quite different in many regards.\n",
    "2. Are there features which are not in our data which might enable KNN to accurately predict these locations?\n",
    "- This is a critical question.  How do you measure depravity?\n",
    "3. Which features of the neighborhoods do the organizers of the Free Food Fridges in Albany program use to decide where to place the fridges?\n",
    "- In line with the previous comment, perhaps the organizers know more than the data on hand.  Perhaps not.  \n",
    "4. It is known that census data are incomplete (i.e. not everyone responds).  If the data were complete, would this enable KNN?\n",
    "- Essentially, are the data missing the vital feature-responses upon which the organizers make their decisions?  Are the vulnerable also those who withhold responses for the census?\n",
    "\n",
    "## Nesting Dolls\n",
    "1. It appears that there is a set-subset relation between accurate classifiers on varying levels of sets.  For example, there is only one accuracte single-feature classifier with the feature 'marital_status_widowed'.  This set is a subset of the accurate two-feature classifier feature-set.  Additionally, it appears the set of all accurate two-feature classifier feature-set is a subset of the accurate triple-feature classifier set.  Is this a general phenomenon?  If so, this is an obvious strategy for feature selection in KNN."
   ]
  },
  {
   "cell_type": "code",
   "execution_count": null,
   "id": "edc3ba67-de12-4fba-9857-5c87c7185b11",
   "metadata": {},
   "outputs": [],
   "source": []
  }
 ],
 "metadata": {
  "kernelspec": {
   "display_name": "Python 3",
   "language": "python",
   "name": "python3"
  },
  "language_info": {
   "codemirror_mode": {
    "name": "ipython",
    "version": 3
   },
   "file_extension": ".py",
   "mimetype": "text/x-python",
   "name": "python",
   "nbconvert_exporter": "python",
   "pygments_lexer": "ipython3",
   "version": "3.8.8"
  }
 },
 "nbformat": 4,
 "nbformat_minor": 5
}
