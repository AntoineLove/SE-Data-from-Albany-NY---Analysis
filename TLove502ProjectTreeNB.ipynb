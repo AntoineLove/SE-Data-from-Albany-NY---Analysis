{
 "cells": [
  {
   "cell_type": "markdown",
   "id": "9daa559a-18bf-41d0-ada7-3a04f9103ea1",
   "metadata": {},
   "source": [
    "# Decision Tree Classifier for SE Data with Fridge Location Labels"
   ]
  },
  {
   "cell_type": "code",
   "execution_count": 1,
   "id": "f1c250d8-e54d-41e1-ad4f-c9a1bf093ab7",
   "metadata": {},
   "outputs": [],
   "source": [
    "import numpy as np\n",
    "import matplotlib.pyplot as plt\n",
    "import pandas as pd\n",
    "from sklearn.neighbors import KNeighborsClassifier\n",
    "from sklearn.model_selection import train_test_split\n",
    "from sklearn import preprocessing\n",
    "from sklearn.preprocessing import MaxAbsScaler\n",
    "from sklearn import tree"
   ]
  },
  {
   "cell_type": "code",
   "execution_count": 2,
   "id": "0deb755c-3df9-4938-aba4-ab8975cc5f2d",
   "metadata": {},
   "outputs": [],
   "source": [
    "dataFrame = pd.read_csv(\"Dataset.csv\")"
   ]
  },
  {
   "cell_type": "code",
   "execution_count": 3,
   "id": "715c9c61-e960-4715-80a8-e255456872b2",
   "metadata": {},
   "outputs": [],
   "source": [
    "fullfeaturelist = ['nei_final_simple','walk_score','transit_score','bike_score','population',\n",
    "           'population_density','household_income','marital_status_married','marital_status_separated_divorce',\n",
    "           'marital_status_widowed','marital_status_never_married','white_popl',\n",
    "            'hispanic_popl','black_popl','asian_popl','mixed_popl','other_popl','food_stamps_total',\n",
    "            'educational_attainment_no_hs','educational_attainment_bachelors','educational_attainment_very_advanced_degrees',\n",
    "            'household_type_married_count', 'household_type_single_female_count',\n",
    "            'household_type_single_male_count','household_type_one_person_count',\n",
    "            'household_type_other_non_family_count','household_type_with_children','Age_0_to_17','Age_18_to_21',\n",
    "            'Age_22_to_29','Age_30_to_39','Age_40_to_49','Age_50_to_59','Age_60_to_69','Age_70_to_79','Age_80_older']\n",
    "\n",
    "# A list with every feature name but neighborhood titles in it.\n",
    "featurelist = fullfeaturelist[1:]\n",
    "\n",
    "# A new dataframe after removing job sector data since much of this is missing across many neighborhoods.\n",
    "dfFull = dataFrame[fullfeaturelist]\n",
    "\n",
    "# Taking out Pastures Neighborhood because of large lack of data.\n",
    "df = pd.DataFrame(dfFull[dfFull['nei_final_simple']!= 'Pastures'],columns = fullfeaturelist)\n",
    "# Taking out West End Neighborhood because of large lack of data.\n",
    "df = pd.DataFrame(df[df['nei_final_simple'] != 'West End'],columns = fullfeaturelist)\n",
    "df.reset_index(drop = True, inplace=True)"
   ]
  },
  {
   "cell_type": "markdown",
   "id": "c54471ee-c8c1-42c8-92fa-610c9ff34ebf",
   "metadata": {},
   "source": [
    "## Scaling The Dataframe"
   ]
  },
  {
   "cell_type": "code",
   "execution_count": 4,
   "id": "bbb6526b-6768-4c24-8ecd-ee90e72a7ddd",
   "metadata": {},
   "outputs": [],
   "source": [
    "scaler = MaxAbsScaler()\n",
    "scaler.fit(df[featurelist])\n",
    "scaledData = scaler.transform(df[featurelist])\n",
    "dfScaled = pd.DataFrame(scaledData,columns=featurelist)\n",
    "dfScaled['nei_final_simple']=df['nei_final_simple']"
   ]
  },
  {
   "cell_type": "markdown",
   "id": "44236f69-b5da-4503-8bdb-fd4e0ab795cf",
   "metadata": {},
   "source": [
    "## Inputting 1930s HOLC Grades (Future Work)"
   ]
  },
  {
   "cell_type": "code",
   "execution_count": 5,
   "id": "63ae56df-f657-4b0f-bfd3-9b42b11f2ea4",
   "metadata": {},
   "outputs": [],
   "source": [
    "df.loc[:,'holc_grade'] = pd.Series(np.array([3,1,4,0,4,4,1,4,4,1,3,4,3,0,1,4,2,2,1,2,3,3,0,3,3,0]),index=df.index)\n",
    "dfScaled.loc[:,'holc_grade'] = pd.Series(np.array([3,1,4,0,4,4,1,4,4,1,3,4,3,0,1,4,2,2,1,2,3,3,0,3,3,0]),index=dfScaled.index)"
   ]
  },
  {
   "cell_type": "markdown",
   "id": "f52f44ab-ee9f-4544-a3ae-29f88d61d3f0",
   "metadata": {},
   "source": [
    "## Inputting Fridge Location Labels"
   ]
  },
  {
   "cell_type": "code",
   "execution_count": 6,
   "id": "2b149bdf-ae1c-4a5b-bb37-ce24c02187e3",
   "metadata": {},
   "outputs": [],
   "source": [
    "df.loc[:,'fridge_count'] = pd.Series(np.array([1,0,0,0,1,0,0,1,0,0,0,0,1,0,0,0,0,1,0,0,0,0,0,0,0,0]),index=df.index)\n",
    "dfScaled.loc[:,'fridge_count'] = pd.Series(np.array([1,0,0,0,1,0,0,1,0,0,0,0,1,0,0,0,0,1,0,0,0,0,0,0,0,0]),index=dfScaled.index)"
   ]
  },
  {
   "cell_type": "markdown",
   "id": "a6090bda-39df-4a35-97b9-0441e4a3b5ac",
   "metadata": {},
   "source": [
    "## Creating/Testing One Decision Tree for Accuracy "
   ]
  },
  {
   "cell_type": "code",
   "execution_count": 7,
   "id": "c671b1a2-4abb-4138-96a9-31aafcf95a62",
   "metadata": {},
   "outputs": [],
   "source": [
    "trainFood, testFood = train_test_split(df, test_size = 0.2,random_state = 0)"
   ]
  },
  {
   "cell_type": "code",
   "execution_count": 8,
   "id": "aadf436d-aeb9-46d0-90cc-da7eecc2374e",
   "metadata": {},
   "outputs": [],
   "source": [
    "xTrain, yTrain = trainFood.drop(columns =['nei_final_simple','fridge_count','holc_grade']), trainFood['fridge_count']\n",
    "xTest, yTest = testFood.drop(columns =['nei_final_simple','fridge_count','holc_grade']), testFood['fridge_count']"
   ]
  },
  {
   "cell_type": "code",
   "execution_count": 9,
   "id": "916626ca-4274-4dba-8d6d-1349008cf491",
   "metadata": {},
   "outputs": [],
   "source": [
    "clf = tree.DecisionTreeClassifier()"
   ]
  },
  {
   "cell_type": "code",
   "execution_count": 10,
   "id": "86e3e0bb-047d-47e2-854f-dd6b105845b7",
   "metadata": {},
   "outputs": [],
   "source": [
    "clf = clf.fit(xTrain,yTrain)"
   ]
  },
  {
   "cell_type": "code",
   "execution_count": 11,
   "id": "956e0da6-0904-4aa1-80ac-59b4dd85a65b",
   "metadata": {},
   "outputs": [
    {
     "data": {
      "text/plain": [
       "[Text(200.88000000000002, 190.26, 'X[0] <= 90.5\\ngini = 0.32\\nsamples = 20\\nvalue = [16, 4]'),\n",
       " Text(133.92000000000002, 135.9, 'X[26] <= 108.0\\ngini = 0.198\\nsamples = 18\\nvalue = [16, 2]'),\n",
       " Text(66.96000000000001, 81.53999999999999, 'gini = 0.0\\nsamples = 1\\nvalue = [0, 1]'),\n",
       " Text(200.88000000000002, 81.53999999999999, 'X[22] <= 131.0\\ngini = 0.111\\nsamples = 17\\nvalue = [16, 1]'),\n",
       " Text(133.92000000000002, 27.180000000000007, 'gini = 0.0\\nsamples = 16\\nvalue = [16, 0]'),\n",
       " Text(267.84000000000003, 27.180000000000007, 'gini = 0.0\\nsamples = 1\\nvalue = [0, 1]'),\n",
       " Text(267.84000000000003, 135.9, 'gini = 0.0\\nsamples = 2\\nvalue = [0, 2]')]"
      ]
     },
     "execution_count": 11,
     "metadata": {},
     "output_type": "execute_result"
    },
    {
     "data": {
      "image/png": "[encoded data removed]",
      "text/plain": [
       "<Figure size 432x288 with 1 Axes>"
      ]
     },
     "metadata": {
      "needs_background": "light"
     },
     "output_type": "display_data"
    }
   ],
   "source": [
    "tree.plot_tree(clf)"
   ]
  },
  {
   "cell_type": "code",
   "execution_count": 12,
   "id": "e8d681b7-a035-4301-acf8-3ee97ad6379f",
   "metadata": {},
   "outputs": [
    {
     "data": {
      "text/plain": [
       "0.3333333333333333"
      ]
     },
     "execution_count": 12,
     "metadata": {},
     "output_type": "execute_result"
    }
   ],
   "source": [
    "predictions = clf.predict(xTest)\n",
    "sum([1 if predictions[i] == np.array(yTest)[i] else 0 for i in range(len(predictions))])/len(predictions)"
   ]
  },
  {
   "cell_type": "markdown",
   "id": "fb76513b-9490-4e53-88c9-aca840d5281b",
   "metadata": {},
   "source": [
    "With an accuracy of 33\\%, our decision tree classifer didn't perform to well."
   ]
  },
  {
   "cell_type": "markdown",
   "id": "579da961-a876-4e34-aef1-1e1576b7a576",
   "metadata": {},
   "source": [
    "## Averaging Decision Tree Accuracies Over N Trials"
   ]
  },
  {
   "cell_type": "code",
   "execution_count": 13,
   "id": "07dbdfe5-5419-402e-9f57-db440516e559",
   "metadata": {},
   "outputs": [],
   "source": [
    "def DecTreeAccNTrialsFridgeCount(dataframe,N,crit = 'gini'):\n",
    "    '''A method to construct N decision trees to predict fridge labels.\n",
    "    This method returns the average accuracy of all the classifiers together.'''\n",
    "    accuracy = []\n",
    "    for i in range(N):\n",
    "        trainFood, testFood = train_test_split(dataframe, test_size = 0.3)\n",
    "        xTrain, yTrain = trainFood.drop(columns =['nei_final_simple','fridge_count','holc_grade']), trainFood['fridge_count']\n",
    "        xTest, yTest = testFood.drop(columns =['nei_final_simple','fridge_count','holc_grade']), testFood['fridge_count']\n",
    "        clf = tree.DecisionTreeClassifier(criterion = crit)\n",
    "        clf = clf.fit(xTrain,yTrain)\n",
    "        predictions = clf.predict(xTest)\n",
    "        accuracy.append(sum([1 if predictions[i] == np.array(yTest)[i] else 0 for i in range(len(predictions))])/len(predictions))\n",
    "    return sum(accuracy)/len(accuracy)"
   ]
  },
  {
   "cell_type": "code",
   "execution_count": 16,
   "id": "186abfba-b40f-46bb-9ed9-967e93c3d917",
   "metadata": {},
   "outputs": [
    {
     "data": {
      "text/plain": [
       "0.6583125"
      ]
     },
     "execution_count": 16,
     "metadata": {},
     "output_type": "execute_result"
    }
   ],
   "source": [
    "# The values below are for 10000 trials, but I lowered\n",
    "# N to 100 for speed of computation.\n",
    "DecTreeAccNTrialsFridgeCount(df,100,crit = 'gini')"
   ]
  },
  {
   "cell_type": "code",
   "execution_count": 17,
   "id": "6ebb5394-9042-42c9-9b33-8a74fdb1cc98",
   "metadata": {},
   "outputs": [
    {
     "data": {
      "text/plain": [
       "0.643125"
      ]
     },
     "execution_count": 17,
     "metadata": {},
     "output_type": "execute_result"
    }
   ],
   "source": [
    "# The values below are for 10000 trials, but I lowered\n",
    "# N to 100 for speed of computation.\n",
    "DecTreeAccNTrialsFridgeCount(df,100,crit = 'entropy')"
   ]
  },
  {
   "cell_type": "markdown",
   "id": "65a9df9f-a001-4ad2-9baf-e49084aeca5c",
   "metadata": {},
   "source": [
    "Really doesn't look promising.  Especially when our KNN Classifiers do better than this by a good margin.  \n",
    "- Can we adjust the parameters of the decision tree to obtain better accuracies?\n",
    "- Can we construct features which a decision tree performs better with?  \n",
    "\n",
    "Whether Gini or Entropic flavor is used, our decision trees appear to not generalize well at all.  If there's time, I'll fiddle with these in the future.  For now, we have decent results from KNN and will proceed with that."
   ]
  },
  {
   "cell_type": "code",
   "execution_count": null,
   "id": "2d4564a4-8017-437f-b7c3-31f8e6bf5677",
   "metadata": {},
   "outputs": [],
   "source": []
  }
 ],
 "metadata": {
  "kernelspec": {
   "display_name": "Python 3",
   "language": "python",
   "name": "python3"
  },
  "language_info": {
   "codemirror_mode": {
    "name": "ipython",
    "version": 3
   },
   "file_extension": ".py",
   "mimetype": "text/x-python",
   "name": "python",
   "nbconvert_exporter": "python",
   "pygments_lexer": "ipython3",
   "version": "3.8.8"
  }
 },
 "nbformat": 4,
 "nbformat_minor": 5
}
